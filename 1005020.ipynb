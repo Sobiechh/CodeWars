{
  "cells": [
    {
      "metadata": {
        "trusted": true
      },
      "cell_type": "code",
      "source": "def josephus_survivor(n,k):\n    t = [x for x in range(1,n+1)]\n    shift = k -1 #const\n    #t = [x for i,x in enumerate(t) if i != shift]\n    if k>n:\n        where_i_am = k%n  - 1\n    else:\n        where_i_am = k-1\n    curr_len = len(t) - 1\n    while len(t) > 1:\n        print(f'{t}')\n        t = [x for i,x in enumerate(t) if i != where_i_am]\n        if curr_len != 0:\n            where_i_am  = (where_i_am + shift)%curr_len\n        curr_len= len(t) - 1\n        \n    return t[0]",
      "execution_count": 97,
      "outputs": []
    },
    {
      "metadata": {
        "trusted": true
      },
      "cell_type": "code",
      "source": "josephus_survivor(11,19)",
      "execution_count": 98,
      "outputs": [
        {
          "output_type": "stream",
          "text": "[1, 2, 3, 4, 5, 6, 7, 8, 9, 10, 11]\n[1, 2, 3, 4, 5, 6, 7, 9, 10, 11]\n[1, 2, 3, 4, 5, 7, 9, 10, 11]\n[1, 2, 3, 4, 5, 9, 10, 11]\n[1, 2, 3, 4, 5, 9, 10]\n[1, 2, 3, 4, 9, 10]\n[1, 2, 3, 4, 10]\n[1, 2, 4, 10]\n[2, 4, 10]\n[4, 10]\n",
          "name": "stdout"
        },
        {
          "output_type": "execute_result",
          "execution_count": 98,
          "data": {
            "text/plain": "10"
          },
          "metadata": {}
        }
      ]
    },
    {
      "metadata": {
        "trusted": true
      },
      "cell_type": "code",
      "source": "",
      "execution_count": null,
      "outputs": []
    },
    {
      "metadata": {
        "trusted": true
      },
      "cell_type": "code",
      "source": "",
      "execution_count": null,
      "outputs": []
    }
  ],
  "metadata": {
    "kernelspec": {
      "name": "python36",
      "display_name": "Python 3.6",
      "language": "python"
    },
    "language_info": {
      "mimetype": "text/x-python",
      "nbconvert_exporter": "python",
      "name": "python",
      "pygments_lexer": "ipython3",
      "version": "3.6.6",
      "file_extension": ".py",
      "codemirror_mode": {
        "version": 3,
        "name": "ipython"
      }
    }
  },
  "nbformat": 4,
  "nbformat_minor": 1
}