{
  "cells": [
    {
      "metadata": {
        "trusted": true
      },
      "cell_type": "code",
      "source": "def josephus_survivor(n,k):\n    t = [x for x in range(1,n+1)]\n    shift = k -1 #const\n    #t = [x for i,x in enumerate(t) if i != shift]\n    if k>n:\n        where_i_am = k%n  - 1\n    else:\n        where_i_am = k-1\n    curr_len = len(t) - 1\n    while len(t) > 1:\n        print(f'{t}')\n        print(t[where_i_am])\n        t = [x for i,x in enumerate(t) if i != where_i_am]\n        if curr_len != 0:\n            where_i_am  = (where_i_am + shift)%curr_len\n        curr_len= len(t) - 1\n        \n    return t[0]",
      "execution_count": 134,
      "outputs": []
    },
    {
      "metadata": {
        "trusted": true
      },
      "cell_type": "code",
      "source": "josephus_survivor(11,19)",
      "execution_count": 135,
      "outputs": [
        {
          "output_type": "stream",
          "text": "[1, 2, 3, 4, 5, 6, 7, 8, 9, 10, 11]\n8\n[1, 2, 3, 4, 5, 6, 7, 9, 10, 11]\n6\n[1, 2, 3, 4, 5, 7, 9, 10, 11]\n7\n[1, 2, 3, 4, 5, 9, 10, 11]\n11\n[1, 2, 3, 4, 5, 9, 10]\n5\n[1, 2, 3, 4, 9, 10]\n9\n[1, 2, 3, 4, 10]\n3\n[1, 2, 4, 10]\n1\n[2, 4, 10]\n2\n[4, 10]\n4\n",
          "name": "stdout"
        },
        {
          "output_type": "execute_result",
          "execution_count": 135,
          "data": {
            "text/plain": "10"
          },
          "metadata": {}
        }
      ]
    },
    {
      "metadata": {
        "trusted": true
      },
      "cell_type": "code",
      "source": "def josephus_survivor2(n, k):\n    t = [x for x in range(1,n+1)]\n    print(t)\n    if k>n:\n        skip = k%n \n    else:\n        skip = k \n    skip -= 1 \n    idx = skip\n    while len(t) > 1:\n        print(t.pop(idx)) \n        idx = (idx + skip) % len(t)\n    print(f'survivor:  {t[0]}')\n    return t[0]  ",
      "execution_count": 128,
      "outputs": []
    },
    {
      "metadata": {
        "trusted": true
      },
      "cell_type": "code",
      "source": "josephus_survivor2(11,19)",
      "execution_count": 129,
      "outputs": [
        {
          "output_type": "stream",
          "text": "[1, 2, 3, 4, 5, 6, 7, 8, 9, 10, 11]\n8\n5\n3\n2\n4\n7\n11\n10\n6\n1\nsurvivor:  9\n",
          "name": "stdout"
        },
        {
          "output_type": "execute_result",
          "execution_count": 129,
          "data": {
            "text/plain": "9"
          },
          "metadata": {}
        }
      ]
    },
    {
      "metadata": {},
      "cell_type": "markdown",
      "source": "# fastest"
    },
    {
      "metadata": {
        "trusted": true
      },
      "cell_type": "code",
      "source": "def josephus(n, skip):\n        from collections import deque\n        ls = [x for x in range(1,n+1)]\n        d = deque(ls)\n        while len(d)>1:\n            d.rotate(-skip)\n            print(d.pop())\n        print('survivor:' , d.pop())",
      "execution_count": 136,
      "outputs": []
    },
    {
      "metadata": {
        "trusted": true
      },
      "cell_type": "code",
      "source": "josephus(11,19)",
      "execution_count": 137,
      "outputs": [
        {
          "output_type": "stream",
          "text": "8\n6\n7\n11\n5\n9\n3\n1\n2\n4\nsurvivor: 10\n",
          "name": "stdout"
        }
      ]
    },
    {
      "metadata": {
        "trusted": true
      },
      "cell_type": "code",
      "source": "",
      "execution_count": null,
      "outputs": []
    }
  ],
  "metadata": {
    "kernelspec": {
      "name": "python36",
      "display_name": "Python 3.6",
      "language": "python"
    },
    "language_info": {
      "mimetype": "text/x-python",
      "nbconvert_exporter": "python",
      "name": "python",
      "pygments_lexer": "ipython3",
      "version": "3.6.6",
      "file_extension": ".py",
      "codemirror_mode": {
        "version": 3,
        "name": "ipython"
      }
    }
  },
  "nbformat": 4,
  "nbformat_minor": 1
}