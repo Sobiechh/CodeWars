{
 "cells": [
  {
   "cell_type": "markdown",
   "metadata": {},
   "source": [
    "# This is the first of my \"-nacci\" series. If you like this kata, check out the zozonacci sequence too.\n",
    "\n",
    "Task Mix -nacci sequences using a given pattern p. Return the first n elements of the mixed sequence. Rules The pattern p is given as a list of strings (or array of symbols in Ruby) using the pattern mapping below (e. g. ['fib', 'pad', 'pel'] means take the next fibonacci, then the next padovan, then the next pell number and so on). When n is 0 or p is empty return an empty list. If the length of p is more than n repeat the pattern. Examples 0 1 2 3 4\n",
    "----------+------------------ fibonacci:| 0, 1, 1, 2, 3 ... padovan: | 1, 0, 0, 1, 0 ... pell: | 0, 1, 2, 5, 12 ...\n",
    "\n",
    "pattern = ['fib', 'pad', 'pel'] n = 6\n",
    "\n",
    "['fib', 'pad', 'pel', 'fib', 'pad', 'pel']\n",
    "result = [fibonacci(0), padovan(0), pell(0), fibonacci(1), padovan(1), pell(1)]\n",
    "result = [0, 1, 0, 1, 0, 1]\n",
    "\n",
    "pattern = ['fib', 'fib', 'pel'] n = 6\n",
    "\n",
    "['fib', 'fib', 'pel', 'fib', 'fib', 'pel']\n",
    "result = [fibonacci(0), fibonacci(1), pell(0), fibonacci(2), fibonacci(3), pell(1)]\n",
    "result = [0, 1, 0, 1, 2, 1] Sequences fibonacci : 0, 1, 1, 2, 3 ... padovan: 1, 0, 0, 1, 0 ... jacobsthal: 0, 1, 1, 3, 5 ... pell: 0, 1, 2, 5, 12 ... tribonacci: 0, 0, 1, 1, 2 ... tetranacci: 0, 0, 0, 1, 1 ... Pattern mapping 'fib' -> fibonacci 'pad' -> padovan 'jac' -> jacobstahl 'pel' -> pell 'tri' -> tribonacci 'tet' -> tetranacci If you like this kata, check out the zozonacci sequence."
   ]
  },
  {
   "cell_type": "markdown",
   "metadata": {},
   "source": [
    "# pattern 1"
   ]
  },
  {
   "cell_type": "code",
   "execution_count": 4,
   "metadata": {},
   "outputs": [],
   "source": [
    "def fib(n):\n",
    "    if n == 0:\n",
    "        return 0\n",
    "    if n == 1:\n",
    "        return 1\n",
    "    if n>1:\n",
    "        return fib(n-1) + fib(n-2)\n",
    "\n",
    "def pad(n):\n",
    "    if n == 0:\n",
    "        return 1\n",
    "    if n == 1 or n == 2:\n",
    "        return 0\n",
    "    if n>2:\n",
    "        return pad(n-2) + pad(n-3)\n",
    "\n",
    "\n",
    "def jac(n):\n",
    "    if n == 0:\n",
    "        return 0\n",
    "    if n == 1:\n",
    "        return 1\n",
    "    if n>1:\n",
    "        return jac(n-1) + 2*jac(n-2)\n",
    "    \n",
    "def pel(n):\n",
    "    if n == 0:\n",
    "        return 0\n",
    "    if n == 1:\n",
    "        return 1\n",
    "    if n>1:\n",
    "        return 2*pel(n-1) + pel(n-2)\n",
    "    \n",
    "def tri(n):\n",
    "    if n == 0 or n == 1:\n",
    "        return 0\n",
    "    if n == 2:\n",
    "        return 1\n",
    "    if n>2:\n",
    "        return tri(n-1) + tri(n-2) + tri(n-3)\n",
    "    \n",
    "def tet(n):\n",
    "    if n == 0 or n == 1 or n == 2:\n",
    "        return 0\n",
    "    if n == 3:\n",
    "        return 1\n",
    "    if n>3:\n",
    "        return tet(n-1) + tet(n-2) + tet(n-3) + tet(n-4)"
   ]
  },
  {
   "cell_type": "code",
   "execution_count": 5,
   "metadata": {},
   "outputs": [],
   "source": [
    "def mixbonacci(pattern, length):\n",
    "    if pattern == []:\n",
    "        return []\n",
    "    \n",
    "    #tablica patternow\n",
    "    t = [pattern[i%len(pattern)] for i in range(length)]\n",
    "    t_set = list(set(t))\n",
    "    t_counts = [t.count(x)-1 for x in t_set]\n",
    "    for i in range(len(t)-1, -1, -1):\n",
    "        if  t[i] == 'fib':\n",
    "            x = fib(t_counts[t_set.index(t[i])])\n",
    "            t_counts[t_set.index(t[i])]-=1 \n",
    "            t[i] = x\n",
    "        elif t[i] == 'pad':\n",
    "            x = pad(t_counts[t_set.index(t[i])])\n",
    "            t_counts[t_set.index(t[i])]-=1 \n",
    "            t[i] = x\n",
    "        elif t[i] == 'jac':\n",
    "            x = jac(t_counts[t_set.index(t[i])])\n",
    "            t_counts[t_set.index(t[i])]-=1 \n",
    "            t[i] = x\n",
    "        elif t[i] == 'pel':\n",
    "            x = pel(t_counts[t_set.index(t[i])])\n",
    "            t_counts[t_set.index(t[i])]-=1 \n",
    "            t[i] = x\n",
    "        elif t[i] == 'tri':\n",
    "            x = tri(t_counts[t_set.index(t[i])])\n",
    "            t_counts[t_set.index(t[i])]-=1 \n",
    "            t[i] = x\n",
    "        elif t[i] == 'tet':\n",
    "            x = tet(t_counts[t_set.index(t[i])])\n",
    "            t_counts[t_set.index(t[i])]-=1 \n",
    "            t[i] = x\n",
    "    \n",
    "    return t\n",
    "    "
   ]
  },
  {
   "cell_type": "code",
   "execution_count": 6,
   "metadata": {},
   "outputs": [
    {
     "data": {
      "text/plain": [
       "[0, 1, 0, 1, 3, 1, 5, 11, 2, 21]"
      ]
     },
     "execution_count": 6,
     "metadata": {},
     "output_type": "execute_result"
    }
   ],
   "source": [
    "mixbonacci(['jac', 'jac', 'pel'], 10)"
   ]
  },
  {
   "cell_type": "code",
   "execution_count": 7,
   "metadata": {},
   "outputs": [
    {
     "data": {
      "text/plain": [
       "[0, 0, 1, 0, 1, 0, 2, 1, 3, 1]"
      ]
     },
     "execution_count": 7,
     "metadata": {},
     "output_type": "execute_result"
    }
   ],
   "source": [
    "mixbonacci(['fib', 'tet'], 10)"
   ]
  },
  {
   "cell_type": "code",
   "execution_count": 8,
   "metadata": {},
   "outputs": [
    {
     "data": {
      "text/plain": [
       "[0, 0, 0, 1, 1]"
      ]
     },
     "execution_count": 8,
     "metadata": {},
     "output_type": "execute_result"
    }
   ],
   "source": [
    "mixbonacci(['tet'], 5)"
   ]
  },
  {
   "cell_type": "markdown",
   "metadata": {},
   "source": [
    "# pattern 2"
   ]
  },
  {
   "cell_type": "code",
   "execution_count": 10,
   "metadata": {},
   "outputs": [],
   "source": [
    "def fib():\n",
    "    a, b = 0, 1\n",
    "    while True:\n",
    "        yield a\n",
    "        a, b = b, a + b\n",
    "        \n",
    "def pad():\n",
    "    a, b, c = 1, 0, 0\n",
    "    while True:\n",
    "        yield a\n",
    "        a, b, c = b, c, a + b\n",
    "\n",
    "def jac():\n",
    "    a, b = 0, 1\n",
    "    while True:\n",
    "        yield a\n",
    "        a, b = b, b + 2 * a\n",
    "\n",
    "def pel():\n",
    "    a, b = 0, 1\n",
    "    while True:\n",
    "        yield a\n",
    "        a, b = b, a + 2 * b\n",
    "        \n",
    "def tri():\n",
    "    a, b, c = 0, 0, 1\n",
    "    while True:\n",
    "        yield a\n",
    "        a, b, c = b, c, a + b + c\n",
    "        \n",
    "def tet():\n",
    "    a, b, c, d = 0, 0, 0, 1\n",
    "    while True:\n",
    "        yield a\n",
    "        a, b, c, d = b, c, d, a + b + c + d"
   ]
  }
 ],
 "metadata": {
  "kernelspec": {
   "display_name": "Python 3",
   "language": "python",
   "name": "python3"
  },
  "language_info": {
   "codemirror_mode": {
    "name": "ipython",
    "version": 3
   },
   "file_extension": ".py",
   "mimetype": "text/x-python",
   "name": "python",
   "nbconvert_exporter": "python",
   "pygments_lexer": "ipython3",
   "version": "3.8.7"
  }
 },
 "nbformat": 4,
 "nbformat_minor": 4
}
