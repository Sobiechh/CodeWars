{
 "cells": [
  {
   "cell_type": "code",
   "execution_count": 89,
   "metadata": {},
   "outputs": [],
   "source": [
    "def same_structure_as(original,other):\n",
    "    \n",
    "    if type(original) in [str,int,list,set, dict] and type(other) in [str,int,list, set, dict] and type(original) != type(other):\n",
    "        return False\n",
    "    \n",
    "    temp = 0\n",
    "    is_list = False\n",
    "    for elem in original:\n",
    "        if type(elem) == list:\n",
    "            temp+=1\n",
    "            is_list = True\n",
    "    if temp == 0:\n",
    "        if is_list == False:\n",
    "            if  len(original) == len(other):\n",
    "                a1_str = [x for x in original if type(x) == str]\n",
    "                a2_str = [x for x in other if type(x) == str]\n",
    "\n",
    "                b1_int = [x for x in original if type(x) == int]\n",
    "                b2_int = [x for x in original if type(x) == int]\n",
    "\n",
    "                if len(a1_str) == len(a2_str) and len(b1_int) == len(b2_int):\n",
    "                    return True\n",
    "                else:\n",
    "                    return False\n",
    "    \n",
    "    if type(original) != type(other) or len(original) != len(other):\n",
    "        return False\n",
    "    else:\n",
    "        for i in range(len(original)):\n",
    "            if ( type(original[i]) ==  type(other[i]) == list ):\n",
    "                if len(original[i]) != len(other[i]):\n",
    "                       return False\n",
    "                else:\n",
    "                    for j in range(len(original[i])):\n",
    "                        if type(original[i][j]) != type(other[i][j]):\n",
    "                            return False\n",
    "            elif ( type(original[i]) == list and  type(other[i]) != list ) or ( type(original[i]) != list and  type(other[i]) == list ):\n",
    "                return False\n",
    "            \n",
    "            if type(original[i]) != type(other[i]):\n",
    "                return False\n",
    "    return True"
   ]
  },
  {
   "cell_type": "code",
   "execution_count": 90,
   "metadata": {},
   "outputs": [
    {
     "data": {
      "text/plain": [
       "False"
      ]
     },
     "execution_count": 90,
     "metadata": {},
     "output_type": "execute_result"
    }
   ],
   "source": [
    "same_structure_as([1,[1,1]],[[2,2],2])"
   ]
  },
  {
   "cell_type": "code",
   "execution_count": 91,
   "metadata": {},
   "outputs": [
    {
     "data": {
      "text/plain": [
       "True"
      ]
     },
     "execution_count": 91,
     "metadata": {},
     "output_type": "execute_result"
    }
   ],
   "source": [
    "same_structure_as([1,[1,1]] , [2,[2,2]])"
   ]
  },
  {
   "cell_type": "code",
   "execution_count": 92,
   "metadata": {},
   "outputs": [
    {
     "data": {
      "text/plain": [
       "True"
      ]
     },
     "execution_count": 92,
     "metadata": {},
     "output_type": "execute_result"
    }
   ],
   "source": [
    "same_structure_as([1,'[',']'],['[',']',1])"
   ]
  },
  {
   "cell_type": "code",
   "execution_count": 93,
   "metadata": {},
   "outputs": [
    {
     "data": {
      "text/plain": [
       "False"
      ]
     },
     "execution_count": 93,
     "metadata": {},
     "output_type": "execute_result"
    }
   ],
   "source": [
    "same_structure_as(2,'s')"
   ]
  },
  {
   "cell_type": "code",
   "execution_count": 94,
   "metadata": {},
   "outputs": [
    {
     "data": {
      "text/plain": [
       "True"
      ]
     },
     "execution_count": 94,
     "metadata": {},
     "output_type": "execute_result"
    }
   ],
   "source": [
    "same_structure_as([],{})"
   ]
  },
  {
   "cell_type": "code",
   "execution_count": 95,
   "metadata": {},
   "outputs": [
    {
     "data": {
      "text/plain": [
       "dict"
      ]
     },
     "execution_count": 95,
     "metadata": {},
     "output_type": "execute_result"
    }
   ],
   "source": [
    "s = {}\n",
    "type(s)"
   ]
  },
  {
   "cell_type": "markdown",
   "metadata": {},
   "source": [
    "Acknowledgments:\n",
    "I thank yvonne-liu for the idea and for the example tests :)\n",
    "\n",
    "Description:\n",
    "Encrypt this!\n",
    "\n",
    "You want to create secret messages which can be deciphered by the Decipher this! kata. Here are the conditions:\n",
    "\n",
    "Your message is a string containing space separated words.\n",
    "You need to encrypt each word in the message using the following rules:\n",
    "The first letter needs to be converted to its ASCII code.\n",
    "The second letter needs to be switched with the last letter\n",
    "Keepin' it simple: There are no special characters in input.\n",
    "Examples:\n",
    "encrypt_this(\"Hello\") == \"72olle\"\n",
    "encrypt_this(\"good\") == \"103doo\"\n",
    "encrypt_this(\"hello world\") == \"104olle 119drlo\""
   ]
  },
  {
   "cell_type": "code",
   "execution_count": 158,
   "metadata": {},
   "outputs": [],
   "source": [
    "def encrypt_this(text):\n",
    "    res = []\n",
    "    for word in text.split(' '):\n",
    "        if len(word) == 1:\n",
    "            res.append(str(ord(word[0])))\n",
    "\n",
    "        elif len(word) >1 :\n",
    "            word =list(word)\n",
    "            word[1], word[-1]= word[-1], word[1]\n",
    "            word[0] = str(ord(word[0]))\n",
    "            res.append(str(''.join(word)))\n",
    "    #print(text.split(' '))\n",
    "    return ' '.join(res)"
   ]
  },
  {
   "cell_type": "code",
   "execution_count": 159,
   "metadata": {},
   "outputs": [],
   "source": [
    "tests = [\n",
    "\"A wise old owl lived in an oak\", \n",
    "\"The more he saw the less he spoke\", \n",
    "\"The less he spoke the more he heard\", \n",
    "\"Why can we not all be like that wise old bird\", \n",
    "\"Thank you Piotr for all your help\" \n",
    "]"
   ]
  },
  {
   "cell_type": "code",
   "execution_count": 160,
   "metadata": {},
   "outputs": [
    {
     "name": "stdout",
     "output_type": "stream",
     "text": [
      "65 119esi 111dl 111lw 108dvei 105n 97n 111ka\n",
      "84eh 109ero 104e 115wa 116eh 108sse 104e 115eokp\n",
      "84eh 108sse 104e 115eokp 116eh 109ero 104e 104dare\n",
      "87yh 99na 119e 110to 97ll 98e 108eki 116tah 119esi 111dl 98dri\n",
      "84kanh 121uo 80roti 102ro 97ll 121ruo 104ple\n"
     ]
    }
   ],
   "source": [
    "for t in tests:\n",
    "    print(encrypt_this(t))"
   ]
  },
  {
   "cell_type": "code",
   "execution_count": 161,
   "metadata": {},
   "outputs": [
    {
     "data": {
      "text/plain": [
       "'84kanh 121uo 80roti 102ro 97ll 121ruo 104ple'"
      ]
     },
     "execution_count": 161,
     "metadata": {},
     "output_type": "execute_result"
    }
   ],
   "source": [
    "\"65 119esi 111dl 111lw 108dvei 105n 97n 111ka\"\n",
    "\"84eh 109ero 104e 115wa 116eh 108sse 104e 115eokp\"\n",
    "\"84eh 108sse 104e 115eokp 116eh 109ero 104e 104dare\"\n",
    "\"87yh 99na 119e 110to 97ll 98e 108eki 116tah 119esi 111dl 98dri\"\n",
    "\"84kanh 121uo 80roti 102ro 97ll 121ruo 104ple\""
   ]
  },
  {
   "cell_type": "markdown",
   "metadata": {},
   "source": [
    "\n",
    "Create a function that differentiates a polynomial for a given value of x.\n",
    "\n",
    "Your function will receive 2 arguments: a polynomial as a string, and a point to evaluate the equation as an integer.\n",
    "\n",
    "Assumptions:\n",
    "There will be a coefficient near each x, unless the coefficient equals 1 or -1.\n",
    "There will be an exponent near each x, unless the exponent equals 0 or 1.\n",
    "All exponents will be greater or equal to zero\n",
    "Examples:\n",
    "differenatiate(\"12x+2\", 3)      ==>   returns 12\n",
    "differenatiate(\"x^2+3x+2\", 3)   ==>   returns 9\n",
    "\n"
   ]
  },
  {
   "cell_type": "code",
   "execution_count": 587,
   "metadata": {},
   "outputs": [],
   "source": [
    "import re\n",
    "def differentiate(equation, point):\n",
    "    sum = []\n",
    "    plusmin = [x for x in equation if x in ['+','-']]\n",
    "\n",
    "    eq = re.split('\\+|-', equation)\n",
    "    eq = [x for x in eq if x]\n",
    "    for word in eq:\n",
    "        elms = word.split('^')\n",
    "        #print(elms)\n",
    "        #przypadek jak po podzieleniu dl jest jeden czyli nie ma potegi\n",
    "        if len(elms) == 1: #przypadek same x\n",
    "            if len(elms[0]) == 1: \n",
    "                if elms[0] == 'x': #przypadek samego x\n",
    "                    sum.append(1)\n",
    "                elif elms[0] != 'x': #a\n",
    "                    sum.append(0)\n",
    "            elif len(elms[0]) != 1:\n",
    "                if elms[0][-1] == 'x': #ax\n",
    "                    sum.append(int(elms[0][:-1]))\n",
    "                else:\n",
    "                    sum.append(0)\n",
    "            \n",
    "        else: #czyli jak mamy potegi \n",
    "            if len(elms[0]) == 1: \n",
    "                if elms[0] == 'x': #przypadek samego x i jakas tam potega\n",
    "                    sum.append(1 * int(elms[1]) * (point**(int(elms[1])-1)))\n",
    "                elif elms[0] != 'x': #impossible??\n",
    "                    sum.append(0)\n",
    "            elif len(elms[0]) != 1:\n",
    "                if elms[0][-1] == 'x': #ax\n",
    "                    sum.append(int(elms[0][:-1]) * int(elms[1])* (point**(int(elms[1])-1)))\n",
    "                else: #impossible?\n",
    "                    sum.append(0)\n",
    "            \n",
    "            #elm 0 without x\n",
    "    print(sum)\n",
    "    print(plusmin)\n",
    "    wynik = 0\n",
    "    \n",
    "    for i in range(len(plusmin)):\n",
    "        if plusmin[i] == '-':\n",
    "            plusmin[i] = -1\n",
    "        if plusmin[i] == '+':\n",
    "            plusmin[i] = 1\n",
    "        \n",
    "    common = [None]*(len(sum)+len(plusmin))\n",
    "    \n",
    "    if len(sum) > len(plusmin):\n",
    "        common[::2] = sum\n",
    "        common[1::2] = plusmin\n",
    "        wynik += int(common[0])\n",
    "        for i in range(1,len(common)-1,2):\n",
    "            wynik += int(common[i]*common[i+1])\n",
    "        \n",
    "    else:\n",
    "        common[1::2] = sum\n",
    "        common[::2] = plusmin\n",
    "        wynik += int(common[0]*common[1])\n",
    "        for i in range(2,len(common)-1,2):\n",
    "            wynik += int(common[i]*common[i+1])\n",
    "            \n",
    "        \n",
    "    print(common)\n",
    "    \n",
    "    \n",
    "    return wynik\n",
    "    "
   ]
  },
  {
   "cell_type": "code",
   "execution_count": 588,
   "metadata": {},
   "outputs": [
    {
     "name": "stdout",
     "output_type": "stream",
     "text": [
      "[405, 1296, 189, 6, 1]\n",
      "['+', '+', '-', '-']\n",
      "[405, 1, 1296, 1, 189, -1, 6, -1, 1]\n"
     ]
    },
    {
     "data": {
      "text/plain": [
       "1883"
      ]
     },
     "execution_count": 588,
     "metadata": {},
     "output_type": "execute_result"
    }
   ],
   "source": [
    "differentiate(\"x^5+12x^4+7x^3-1x^2-x\", 3)"
   ]
  },
  {
   "cell_type": "code",
   "execution_count": 589,
   "metadata": {},
   "outputs": [
    {
     "name": "stdout",
     "output_type": "stream",
     "text": [
      "[27, 6]\n",
      "['-']\n",
      "[27, -1, 6]\n"
     ]
    },
    {
     "data": {
      "text/plain": [
       "21"
      ]
     },
     "execution_count": 589,
     "metadata": {},
     "output_type": "execute_result"
    }
   ],
   "source": [
    "differentiate(\"x^3-x^2\", 3)"
   ]
  },
  {
   "cell_type": "code",
   "execution_count": 590,
   "metadata": {},
   "outputs": [
    {
     "name": "stdout",
     "output_type": "stream",
     "text": [
      "[30, 10, 0]\n",
      "['-', '+', '+']\n",
      "[-1, 30, 1, 10, 1, 0]\n"
     ]
    },
    {
     "data": {
      "text/plain": [
       "-20"
      ]
     },
     "execution_count": 590,
     "metadata": {},
     "output_type": "execute_result"
    }
   ],
   "source": [
    "differentiate(\"-5x^2+10x+4\", 3)"
   ]
  },
  {
   "cell_type": "code",
   "execution_count": null,
   "metadata": {},
   "outputs": [],
   "source": []
  },
  {
   "cell_type": "code",
   "execution_count": null,
   "metadata": {},
   "outputs": [],
   "source": []
  }
 ],
 "metadata": {
  "kernelspec": {
   "display_name": "Python 3",
   "language": "python",
   "name": "python3"
  },
  "language_info": {
   "codemirror_mode": {
    "name": "ipython",
    "version": 3
   },
   "file_extension": ".py",
   "mimetype": "text/x-python",
   "name": "python",
   "nbconvert_exporter": "python",
   "pygments_lexer": "ipython3",
   "version": "3.7.6"
  }
 },
 "nbformat": 4,
 "nbformat_minor": 4
}
