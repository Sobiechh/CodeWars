{
 "cells": [
  {
   "cell_type": "code",
   "execution_count": 89,
   "metadata": {},
   "outputs": [],
   "source": [
    "def same_structure_as(original,other):\n",
    "    \n",
    "    if type(original) in [str,int,list,set, dict] and type(other) in [str,int,list, set, dict] and type(original) != type(other):\n",
    "        return False\n",
    "    \n",
    "    temp = 0\n",
    "    is_list = False\n",
    "    for elem in original:\n",
    "        if type(elem) == list:\n",
    "            temp+=1\n",
    "            is_list = True\n",
    "    if temp == 0:\n",
    "        if is_list == False:\n",
    "            if  len(original) == len(other):\n",
    "                a1_str = [x for x in original if type(x) == str]\n",
    "                a2_str = [x for x in other if type(x) == str]\n",
    "\n",
    "                b1_int = [x for x in original if type(x) == int]\n",
    "                b2_int = [x for x in original if type(x) == int]\n",
    "\n",
    "                if len(a1_str) == len(a2_str) and len(b1_int) == len(b2_int):\n",
    "                    return True\n",
    "                else:\n",
    "                    return False\n",
    "    \n",
    "    if type(original) != type(other) or len(original) != len(other):\n",
    "        return False\n",
    "    else:\n",
    "        for i in range(len(original)):\n",
    "            if ( type(original[i]) ==  type(other[i]) == list ):\n",
    "                if len(original[i]) != len(other[i]):\n",
    "                       return False\n",
    "                else:\n",
    "                    for j in range(len(original[i])):\n",
    "                        if type(original[i][j]) != type(other[i][j]):\n",
    "                            return False\n",
    "            elif ( type(original[i]) == list and  type(other[i]) != list ) or ( type(original[i]) != list and  type(other[i]) == list ):\n",
    "                return False\n",
    "            \n",
    "            if type(original[i]) != type(other[i]):\n",
    "                return False\n",
    "    return True"
   ]
  },
  {
   "cell_type": "code",
   "execution_count": 90,
   "metadata": {},
   "outputs": [
    {
     "data": {
      "text/plain": [
       "False"
      ]
     },
     "execution_count": 90,
     "metadata": {},
     "output_type": "execute_result"
    }
   ],
   "source": [
    "same_structure_as([1,[1,1]],[[2,2],2])"
   ]
  },
  {
   "cell_type": "code",
   "execution_count": 91,
   "metadata": {},
   "outputs": [
    {
     "data": {
      "text/plain": [
       "True"
      ]
     },
     "execution_count": 91,
     "metadata": {},
     "output_type": "execute_result"
    }
   ],
   "source": [
    "same_structure_as([1,[1,1]] , [2,[2,2]])"
   ]
  },
  {
   "cell_type": "code",
   "execution_count": 92,
   "metadata": {},
   "outputs": [
    {
     "data": {
      "text/plain": [
       "True"
      ]
     },
     "execution_count": 92,
     "metadata": {},
     "output_type": "execute_result"
    }
   ],
   "source": [
    "same_structure_as([1,'[',']'],['[',']',1])"
   ]
  },
  {
   "cell_type": "code",
   "execution_count": 93,
   "metadata": {},
   "outputs": [
    {
     "data": {
      "text/plain": [
       "False"
      ]
     },
     "execution_count": 93,
     "metadata": {},
     "output_type": "execute_result"
    }
   ],
   "source": [
    "same_structure_as(2,'s')"
   ]
  },
  {
   "cell_type": "code",
   "execution_count": 94,
   "metadata": {},
   "outputs": [
    {
     "data": {
      "text/plain": [
       "True"
      ]
     },
     "execution_count": 94,
     "metadata": {},
     "output_type": "execute_result"
    }
   ],
   "source": [
    "same_structure_as([],{})"
   ]
  },
  {
   "cell_type": "code",
   "execution_count": 95,
   "metadata": {},
   "outputs": [
    {
     "data": {
      "text/plain": [
       "dict"
      ]
     },
     "execution_count": 95,
     "metadata": {},
     "output_type": "execute_result"
    }
   ],
   "source": [
    "s = {}\n",
    "type(s)"
   ]
  },
  {
   "cell_type": "code",
   "execution_count": null,
   "metadata": {},
   "outputs": [],
   "source": []
  }
 ],
 "metadata": {
  "kernelspec": {
   "display_name": "Python 3",
   "language": "python",
   "name": "python3"
  },
  "language_info": {
   "codemirror_mode": {
    "name": "ipython",
    "version": 3
   },
   "file_extension": ".py",
   "mimetype": "text/x-python",
   "name": "python",
   "nbconvert_exporter": "python",
   "pygments_lexer": "ipython3",
   "version": "3.7.6"
  }
 },
 "nbformat": 4,
 "nbformat_minor": 4
}
