{
 "cells": [
  {
   "cell_type": "markdown",
   "metadata": {},
   "source": [
    "Consider a sequence u where u is defined as follows:\n",
    "\n",
    "The number u(0) = 1 is the first one in u. For each x in u, then y = 2 * x + 1 and z = 3 * x + 1 must be in u too. There are no other numbers in u. Ex: u = [1, 3, 4, 7, 9, 10, 13, 15, 19, 21, 22, 27, ...]\n",
    "\n",
    "1 gives 3 and 4, then 3 gives 7 and 10, 4 gives 9 and 13, then 7 gives 15 and 22 and so on...\n",
    "\n",
    "Task: Given parameter n the function dbl_linear (or dblLinear...) returns the element u(n) of the ordered (with <) sequence u (so, there are no duplicates).\n",
    "\n",
    "Example: dbl_linear(10) should return 22"
   ]
  },
  {
   "cell_type": "code",
   "execution_count": 1,
   "metadata": {},
   "outputs": [],
   "source": [
    "def dbl_linear(n):\n",
    "    u = [1]\n",
    "    x=0\n",
    "    y=0\n",
    "    for i in range(n):\n",
    "        a = u[x]*2+1\n",
    "        b = u[y]*3+1\n",
    "        if a>b:\n",
    "            u.append(b)\n",
    "            y+=1\n",
    "        elif a<b:\n",
    "            u.append(a)\n",
    "            x+=1\n",
    "        else:\n",
    "            u.append(a)\n",
    "            x+=1\n",
    "            y+=1\n",
    "    print(u)\n",
    "    return u[n]\n"
   ]
  },
  {
   "cell_type": "code",
   "execution_count": 2,
   "metadata": {},
   "outputs": [
    {
     "name": "stdout",
     "output_type": "stream",
     "text": [
      "[1, 3, 4, 7, 9, 10, 13, 15, 19, 21, 22, 27, 28, 31, 39, 40, 43, 45, 46, 55, 57]\n",
      "57\n"
     ]
    }
   ],
   "source": [
    "print(dbl_linear(20))"
   ]
  }
 ],
 "metadata": {
  "kernelspec": {
   "display_name": "Python 3",
   "language": "python",
   "name": "python3"
  },
  "language_info": {
   "codemirror_mode": {
    "name": "ipython",
    "version": 3
   },
   "file_extension": ".py",
   "mimetype": "text/x-python",
   "name": "python",
   "nbconvert_exporter": "python",
   "pygments_lexer": "ipython3",
   "version": "3.8.7"
  }
 },
 "nbformat": 4,
 "nbformat_minor": 4
}
