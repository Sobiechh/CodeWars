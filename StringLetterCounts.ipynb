{
 "cells": [
  {
   "cell_type": "markdown",
   "metadata": {},
   "source": [
    "# Take an input string and return a string that is made up of the number of occurances of each english letter in the input, followed by that letter. The string shouldn't contain zeros; leave them out.\n",
    "\n",
    "An empty string, or one with no letters, should return an empty string.\n",
    "\n",
    "Notes:\n",
    "\n",
    "the input will always be valid;\n",
    "treat letters as case-insensitive\n",
    "Examples\n",
    "\"This is a test sentence.\"  ==>  \"1a1c4e1h2i2n4s4t\"\n",
    "\"\"                          ==>  \"\"\n",
    "\"555\"                       ==>  \"\""
   ]
  },
  {
   "cell_type": "code",
   "execution_count": 2,
   "metadata": {},
   "outputs": [],
   "source": [
    "def string_letter_count(s):\n",
    "    s = [x.lower() for x in list(s) if x.isalpha()]\n",
    "    chars = sorted(list(set(s)))\n",
    "    counts = [s.count(x) for x in chars]\n",
    "    res = \"\"\n",
    "    for i in range(len(counts)):\n",
    "        res += f\"{str(counts[i])+chars[i]}\"\n",
    "    return res"
   ]
  },
  {
   "cell_type": "code",
   "execution_count": 3,
   "metadata": {},
   "outputs": [
    {
     "data": {
      "text/plain": [
       "'1a1b1c1d3e1f1g2h1i1j1k1l1m1n4o1p1q2r1s2t2u1v1w1x1y1z'"
      ]
     },
     "execution_count": 3,
     "metadata": {},
     "output_type": "execute_result"
    }
   ],
   "source": [
    "string = \"The quick brown fox jumps over the lazy dog.\"\n",
    "string_letter_count(string)"
   ]
  }
 ],
 "metadata": {
  "kernelspec": {
   "display_name": "Python 3",
   "language": "python",
   "name": "python3"
  },
  "language_info": {
   "codemirror_mode": {
    "name": "ipython",
    "version": 3
   },
   "file_extension": ".py",
   "mimetype": "text/x-python",
   "name": "python",
   "nbconvert_exporter": "python",
   "pygments_lexer": "ipython3",
   "version": "3.8.7"
  }
 },
 "nbformat": 4,
 "nbformat_minor": 4
}
