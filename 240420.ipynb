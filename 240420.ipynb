{
 "cells": [
  {
   "cell_type": "markdown",
   "metadata": {},
   "source": [
    "# logical opers"
   ]
  },
  {
   "cell_type": "code",
   "execution_count": 22,
   "metadata": {},
   "outputs": [
    {
     "name": "stdout",
     "output_type": "stream",
     "text": [
      "True\n"
     ]
    }
   ],
   "source": [
    "def logical_calc(array, op):\n",
    "    if len(array) > 1:\n",
    "        if op == \"OR\":\n",
    "            curr = (array[0] | array[1])\n",
    "            if len(array) > 2:\n",
    "                for i in range(2, len(array)):\n",
    "                    curr = curr | array[i]\n",
    "\n",
    "\n",
    "        if op == \"AND\":\n",
    "            curr = (array[0] & array[1])\n",
    "            if len(array) > 2:\n",
    "                for i in range(2, len(array)):\n",
    "                    curr = curr & array[i]\n",
    "\n",
    "        if op == \"XOR\":\n",
    "            curr = (array[0] ^ array[1])\n",
    "            if len(array) > 2:\n",
    "                for i in range(2, len(array)):\n",
    "                    curr = curr ^ array[i]\n",
    "    else:\n",
    "        return array[0]\n",
    "    \n",
    "    return curr\n",
    "        \n",
    "print(logical_calc([True, True, True, False, True, True], \"XOR\"))"
   ]
  },
  {
   "cell_type": "markdown",
   "metadata": {},
   "source": [
    "# Task\n",
    "Create a function that given a sequence of strings, groups the elements that can be obtained by rotating others, ignoring upper or lower cases.\n",
    "\n",
    "In the event that an element appears more than once in the input sequence, only one of them will be taken into account for the result, discarding the rest.\n",
    "\n",
    "Input\n",
    "Sequence of strings. Valid characters for those strings are uppercase and lowercase characters from the alphabet and whitespaces.\n",
    "\n",
    "Output\n",
    "Sequence of elements. Each element is the group of inputs that can be obtained by rotating the strings.\n",
    "\n",
    "Sort the elements of each group alphabetically.\n",
    "\n",
    "Sort the groups descendingly by size and in the case of a tie, by the first element of the group alphabetically.\n",
    "\n",
    "Examples\n",
    "['Tokyo', 'London', 'Rome', 'Donlon', 'Kyoto', 'Paris', 'Okyot'] --> [['Kyoto', 'Okyot', 'Tokyo'], ['Donlon', 'London'], ['Paris'], ['Rome']]\n",
    "\n",
    "['Rome', 'Rome', 'Rome', 'Donlon', 'London'] --> [['Donlon', 'London'], ['Rome']]\n",
    "\n",
    "[] --> []"
   ]
  },
  {
   "cell_type": "code",
   "execution_count": 18,
   "metadata": {},
   "outputs": [],
   "source": [
    "def group_cities(seq):\n",
    "    res = []\n",
    "    seq = list(set(seq))\n",
    "    values = []\n",
    "    for elem in seq:\n",
    "        values.append(''.join(sorted(elem.upper())))\n",
    "    dictionary = dict(zip(seq, values))\n",
    "    temp = []\n",
    "    the_same = []\n",
    "    for city in seq:\n",
    "        for city2 in seq:\n",
    "            if dictionary[city] == dictionary[city2]:\n",
    "                temp.append(city2)\n",
    "        if temp not in res:\n",
    "            res.append(sorted(temp))\n",
    "        temp = []\n",
    "    new = []\n",
    "    for elem in res:\n",
    "        if elem not in new:\n",
    "            new.append(elem)\n",
    "    new.sort(key=len, reverse=True)\n",
    "    new.sort()\n",
    "    return new"
   ]
  },
  {
   "cell_type": "code",
   "execution_count": 19,
   "metadata": {},
   "outputs": [
    {
     "name": "stdout",
     "output_type": "stream",
     "text": [
      "[['Donlon', 'London'], ['Kyoto', 'Okyot', 'Tokyo'], ['Paris'], ['Rome']]\n"
     ]
    }
   ],
   "source": [
    "print(group_cities(['Tokyo', 'London', 'Rome', 'Donlon', 'Kyoto', 'Paris', 'Okyot']))\n",
    "                                # should return [['Kyoto', 'Okyot', 'Tokyo'], ['Donlon', 'London'], ['Paris'], ['Rome']])"
   ]
  },
  {
   "cell_type": "code",
   "execution_count": 78,
   "metadata": {},
   "outputs": [
    {
     "name": "stdout",
     "output_type": "stream",
     "text": [
      "2\n"
     ]
    }
   ],
   "source": [
    "keys = ['a', 'b', 'c']\n",
    "values = [1, 2, 3]\n",
    "dictionary = dict(zip(keys, values))\n",
    "print(dictionary['b'])"
   ]
  },
  {
   "cell_type": "code",
   "execution_count": 7,
   "metadata": {},
   "outputs": [
    {
     "ename": "TypeError",
     "evalue": "unhashable type: 'list'",
     "output_type": "error",
     "traceback": [
      "\u001b[1;31m---------------------------------------------------------------------------\u001b[0m",
      "\u001b[1;31mTypeError\u001b[0m                                 Traceback (most recent call last)",
      "\u001b[1;32m<ipython-input-7-14bcea0c4b05>\u001b[0m in \u001b[0;36m<module>\u001b[1;34m\u001b[0m\n\u001b[1;32m----> 1\u001b[1;33m \u001b[0mt\u001b[0m \u001b[1;33m=\u001b[0m\u001b[1;33m{\u001b[0m\u001b[1;33m[\u001b[0m\u001b[1;36m2\u001b[0m\u001b[1;33m,\u001b[0m\u001b[1;36m4\u001b[0m\u001b[1;33m]\u001b[0m\u001b[1;33m,\u001b[0m\u001b[1;33m[\u001b[0m\u001b[1;36m2\u001b[0m\u001b[1;33m,\u001b[0m\u001b[1;36m4\u001b[0m\u001b[1;33m,\u001b[0m\u001b[1;36m5\u001b[0m\u001b[1;33m]\u001b[0m\u001b[1;33m}\u001b[0m\u001b[1;33m\u001b[0m\u001b[1;33m\u001b[0m\u001b[0m\n\u001b[0m",
      "\u001b[1;31mTypeError\u001b[0m: unhashable type: 'list'"
     ]
    }
   ],
   "source": []
  },
  {
   "cell_type": "code",
   "execution_count": null,
   "metadata": {},
   "outputs": [],
   "source": []
  }
 ],
 "metadata": {
  "kernelspec": {
   "display_name": "Python 3",
   "language": "python",
   "name": "python3"
  },
  "language_info": {
   "codemirror_mode": {
    "name": "ipython",
    "version": 3
   },
   "file_extension": ".py",
   "mimetype": "text/x-python",
   "name": "python",
   "nbconvert_exporter": "python",
   "pygments_lexer": "ipython3",
   "version": "3.7.6"
  }
 },
 "nbformat": 4,
 "nbformat_minor": 4
}
