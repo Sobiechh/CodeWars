{
 "cells": [
  {
   "cell_type": "code",
   "execution_count": 2,
   "metadata": {},
   "outputs": [
    {
     "data": {
      "text/plain": [
       "\"\\nWhat is an anagram? Well, two words are anagrams of each other if they both contain the same letters. For example:\\n\\n'abba' & 'baab' == true\\n\\n'abba' & 'bbaa' == true\\n\\n'abba' & 'abbba' == false\\n\\n'abba' & 'abca' == false\\nWrite a function that will find all the anagrams of a word from a list. \\nYou will be given two inputs a word and an array with words. \\nYou should return an array of all the anagrams or an empty array if there are none. \\n\""
      ]
     },
     "execution_count": 2,
     "metadata": {},
     "output_type": "execute_result"
    }
   ],
   "source": [
    "\"\"\"\n",
    "What is an anagram? Well, two words are anagrams of each other if they both contain the same letters. For example:\n",
    "\n",
    "'abba' & 'baab' == true\n",
    "\n",
    "'abba' & 'bbaa' == true\n",
    "\n",
    "'abba' & 'abbba' == false\n",
    "\n",
    "'abba' & 'abca' == false\n",
    "Write a function that will find all the anagrams of a word from a list. \n",
    "You will be given two inputs a word and an array with words. \n",
    "You should return an array of all the anagrams or an empty array if there are none. \n",
    "\"\"\""
   ]
  },
  {
   "cell_type": "code",
   "execution_count": 17,
   "metadata": {},
   "outputs": [
    {
     "name": "stdout",
     "output_type": "stream",
     "text": [
      "['carer', 'racer']\n"
     ]
    }
   ],
   "source": [
    "def anagrams(word, words):\n",
    "    return [x for x in words if sorted(x) == sorted(word)]\n",
    "\n",
    "#example\n",
    "print(anagrams('racer', ['crazer', 'carer', 'racar', 'caers', 'racer']))"
   ]
  },
  {
   "cell_type": "code",
   "execution_count": 24,
   "metadata": {},
   "outputs": [
    {
     "data": {
      "text/plain": [
       "'59:59'"
      ]
     },
     "execution_count": 24,
     "metadata": {},
     "output_type": "execute_result"
    }
   ],
   "source": [
    "\"\"\"\n",
    "Write a function, which takes a non-negative integer (seconds) as input and returns the time in a human-readable format (HH:MM:SS)\n",
    "\n",
    "HH = hours, padded to 2 digits, range: 00 - 99\n",
    "MM = minutes, padded to 2 digits, range: 00 - 59\n",
    "SS = seconds, padded to 2 digits, range: 00 - 59\n",
    "The maximum time never exceeds 359999 (99:59:59)\n",
    "\n",
    "You can find some examples in the test fixtures.\n",
    "\"\"\""
   ]
  },
  {
   "cell_type": "code",
   "execution_count": 1,
   "metadata": {},
   "outputs": [],
   "source": [
    "import time\n",
    "def make_readable(seconds):\n",
    "    ms = time.strftime('%M:%S', time.gmtime(seconds))\n",
    "    h = seconds // (60*60)\n",
    "    return \"{:02d}:{}\".format(h,ms)"
   ]
  },
  {
   "cell_type": "code",
   "execution_count": 2,
   "metadata": {},
   "outputs": [
    {
     "data": {
      "text/plain": [
       "'\\nYour task in order to complete this Kata is to write a function which formats a duration, given as a number of seconds, in a human-friendly way.\\n\\nThe function must accept a non-negative integer. If it is zero, it just returns \"now\". Otherwise, the duration is expressed as a combination of years, days, hours, minutes and seconds.\\n\\nIt is much easier to understand with an example:\\n\\nformat_duration(62)    # returns \"1 minute and 2 seconds\"\\nformat_duration(3662)  # returns \"1 hour, 1 minute and 2 seconds\"\\nFor the purpose of this Kata, a year is 365 days and a day is 24 hours.\\n\\nNote that spaces are important.\\n'"
      ]
     },
     "execution_count": 2,
     "metadata": {},
     "output_type": "execute_result"
    }
   ],
   "source": [
    "\"\"\"\n",
    "Your task in order to complete this Kata is to write a function which formats a duration, given as a number of seconds, in a human-friendly way.\n",
    "\n",
    "The function must accept a non-negative integer. If it is zero, it just returns \"now\". Otherwise, the duration is expressed as a combination of years, days, hours, minutes and seconds.\n",
    "\n",
    "It is much easier to understand with an example:\n",
    "\n",
    "format_duration(62)    # returns \"1 minute and 2 seconds\"\n",
    "format_duration(3662)  # returns \"1 hour, 1 minute and 2 seconds\"\n",
    "For the purpose of this Kata, a year is 365 days and a day is 24 hours.\n",
    "\n",
    "Note that spaces are important.\n",
    "\"\"\""
   ]
  },
  {
   "cell_type": "code",
   "execution_count": 73,
   "metadata": {},
   "outputs": [
    {
     "name": "stdout",
     "output_type": "stream",
     "text": [
      "now\n",
      "1 second\n",
      "1 minute\n",
      "1 minute and 2 seconds\n",
      "2 minutes\n",
      "1 hour\n",
      "1 hour, 1 minute and 1 second\n",
      "11 years and 10 seconds\n",
      "11 years, 221 days, 43 minutes and 47 seconds\n"
     ]
    }
   ],
   "source": [
    "intervals =[\n",
    "    ['years', 31536000],\n",
    "    ['days', 86400],\n",
    "    ['hours', 3600],\n",
    "    ['minutes', 60],\n",
    "    ['seconds', 1]\n",
    "]\n",
    "\n",
    "def format_duration(seconds):\n",
    "    result = []\n",
    "    for name, count in intervals:\n",
    "        value = seconds//count\n",
    "        if value != 0:\n",
    "            seconds -= value*count\n",
    "            if value == 1:\n",
    "                name = name.rstrip('s')\n",
    "            if name in ['second', 'seconds']:\n",
    "                result.append(f\"{value} {name}\")\n",
    "            elif name in ['minutes', 'minute'] and name not in ['second', 'seconds']:\n",
    "                result.append(f\"{value} {name}\")\n",
    "            else:\n",
    "                result.append(f\"{value} {name}, \")\n",
    "    if len(result) == 0:\n",
    "        return \"now\"\n",
    "    elif len(result) > 1:\n",
    "        result[-2] = result[-2].rstrip(', ')+ \" and \"\n",
    "        return ''.join(result)\n",
    "    else:\n",
    "        return ''.join(result).rstrip(', ')\n",
    "\n",
    "\n",
    "print(format_duration(0))\n",
    "print(format_duration(1))\n",
    "print(format_duration(60))\n",
    "print(format_duration(62))\n",
    "print(format_duration(120)) \n",
    "print(format_duration(3600))\n",
    "print(format_duration(3661))\n",
    "print(format_duration(347126196))\n",
    "print(format_duration(366223213))"
   ]
  },
  {
   "cell_type": "code",
   "execution_count": null,
   "metadata": {},
   "outputs": [],
   "source": []
  },
  {
   "cell_type": "code",
   "execution_count": null,
   "metadata": {},
   "outputs": [],
   "source": []
  }
 ],
 "metadata": {
  "kernelspec": {
   "display_name": "Python 3",
   "language": "python",
   "name": "python3"
  },
  "language_info": {
   "codemirror_mode": {
    "name": "ipython",
    "version": 3
   },
   "file_extension": ".py",
   "mimetype": "text/x-python",
   "name": "python",
   "nbconvert_exporter": "python",
   "pygments_lexer": "ipython3",
   "version": "3.7.4"
  }
 },
 "nbformat": 4,
 "nbformat_minor": 4
}
