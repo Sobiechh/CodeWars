{
 "cells": [
  {
   "cell_type": "markdown",
   "metadata": {},
   "source": [
    "Write a function called sumIntervals/sum_intervals() that accepts an array of intervals, and returns the sum of all the interval lengths. Overlapping intervals should only be counted once.\n",
    "\n",
    "Intervals\n",
    "Intervals are represented by a pair of integers in the form of an array. The first value of the interval will always be less than the second value. Interval example: [1, 5] is an interval from 1 to 5. The length of this interval is 4.\n",
    "\n",
    "Overlapping Intervals\n",
    "List containing overlapping intervals:\n",
    "\n",
    "[\n",
    "   [1,4],\n",
    "   [7, 10],\n",
    "   [3, 5]\n",
    "]\n",
    "The sum of the lengths of these intervals is 7. Since [1, 4] and [3, 5] overlap, we can treat the interval as [1, 5], which has a length of 4.\n",
    "\n",
    "Examples:\n",
    "sumIntervals( [\n",
    "   [1,2],\n",
    "   [6, 10],\n",
    "   [11, 15]\n",
    "] ); // => 9\n",
    "\n",
    "sumIntervals( [\n",
    "   [1,4],\n",
    "   [7, 10],\n",
    "   [3, 5]\n",
    "] ); // => 7\n",
    "\n",
    "sumIntervals( [\n",
    "   [1,5],\n",
    "   [10, 20],\n",
    "   [1, 6],\n",
    "   [16, 19],\n",
    "   [5, 11]\n",
    "] ); // => 19"
   ]
  },
  {
   "cell_type": "code",
   "execution_count": 1,
   "metadata": {},
   "outputs": [],
   "source": [
    "def sum_of_intervals(intervals):\n",
    "    nums = []\n",
    "    for elem in intervals:\n",
    "        for num in range(elem[0], elem[1]):\n",
    "            nums.append(num)\n",
    "    result = len(set(nums))\n",
    "    return result"
   ]
  },
  {
   "cell_type": "code",
   "execution_count": 2,
   "metadata": {},
   "outputs": [
    {
     "name": "stdout",
     "output_type": "stream",
     "text": [
      "\n",
      "4\n",
      "8\n",
      "4\n",
      "7\n"
     ]
    }
   ],
   "source": [
    "print()\n",
    "print(sum_of_intervals([(1, 5)])) # => 4\n",
    "print(sum_of_intervals([(1, 5), (6, 10)])) # => 4+4 =8\n",
    "print(sum_of_intervals([(1, 5), (1, 5)])) # => 4+4 = 8\n",
    "print(sum_of_intervals([(1, 4), (7, 10), (3, 5)]))"
   ]
  }
 ],
 "metadata": {
  "kernelspec": {
   "display_name": "Python 3",
   "language": "python",
   "name": "python3"
  },
  "language_info": {
   "codemirror_mode": {
    "name": "ipython",
    "version": 3
   },
   "file_extension": ".py",
   "mimetype": "text/x-python",
   "name": "python",
   "nbconvert_exporter": "python",
   "pygments_lexer": "ipython3",
   "version": "3.8.7"
  }
 },
 "nbformat": 4,
 "nbformat_minor": 4
}
