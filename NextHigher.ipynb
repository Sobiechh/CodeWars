{
 "cells": [
  {
   "cell_type": "markdown",
   "metadata": {},
   "source": [
    "Your task is to Find the next higher number (int) with same '1'- Bits.\n",
    "\n",
    "I.e. as much '1' bits as before and output next higher than input. Input is always an int >0 up to 1<<30. No bad cases or special tricks...\n",
    "\n",
    "Some easy examples:\n",
    "\n",
    "Input: 129 => Output: 130 (10000001 => 10000010) Input: 127 => Output: 191 (01111111 => 10111111) Input: 1 => Output: 2 (01 => 10) Input: 323423 => Output: 323439 (1001110111101011111 => 1001110111101101111) First some static tests, later on many random tests too;-)!\n",
    "\n",
    "Hope you have fun:-)!"
   ]
  },
  {
   "cell_type": "code",
   "execution_count": 1,
   "metadata": {},
   "outputs": [
    {
     "name": "stdout",
     "output_type": "stream",
     "text": [
      "10000001\n",
      "2\n"
     ]
    }
   ],
   "source": [
    "a = 129\n",
    "print(bin(a)[2:])\n",
    "print(list(bin(a)[2:]).count('1'))"
   ]
  },
  {
   "cell_type": "code",
   "execution_count": 2,
   "metadata": {},
   "outputs": [],
   "source": [
    "def next_higher(value):\n",
    "    ones = list(bin(value)[2:]).count('1')\n",
    "    i = 1\n",
    "    while i:\n",
    "        next_bin = bin(value+i)\n",
    "        if list(next_bin[2:]).count('1') == ones:            \n",
    "            break\n",
    "        i+=1\n",
    "    return int(next_bin[2:], 2)"
   ]
  },
  {
   "cell_type": "code",
   "execution_count": 3,
   "metadata": {},
   "outputs": [
    {
     "data": {
      "text/plain": [
       "130"
      ]
     },
     "execution_count": 3,
     "metadata": {},
     "output_type": "execute_result"
    }
   ],
   "source": [
    "next_higher(a)"
   ]
  }
 ],
 "metadata": {
  "kernelspec": {
   "display_name": "Python 3",
   "language": "python",
   "name": "python3"
  },
  "language_info": {
   "codemirror_mode": {
    "name": "ipython",
    "version": 3
   },
   "file_extension": ".py",
   "mimetype": "text/x-python",
   "name": "python",
   "nbconvert_exporter": "python",
   "pygments_lexer": "ipython3",
   "version": "3.8.7"
  }
 },
 "nbformat": 4,
 "nbformat_minor": 4
}
