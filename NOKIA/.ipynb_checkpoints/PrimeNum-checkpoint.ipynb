{
 "cells": [
  {
   "cell_type": "markdown",
   "metadata": {},
   "source": [
    "# prime"
   ]
  },
  {
   "cell_type": "code",
   "execution_count": 1,
   "metadata": {},
   "outputs": [],
   "source": [
    "def is_prime(N):\n",
    "    t = []\n",
    "    a=0\n",
    "    for j in range(2, N):\n",
    "        if j == 2:\n",
    "            t.append(j)\n",
    "        for x in range(2,j): \n",
    "            if j % x == 0:\n",
    "                a = -1\n",
    "                break\n",
    "        if a == 0:\n",
    "            t.append(j)\n",
    "        a=0\n",
    "\n",
    "    return list(set(t))    "
   ]
  },
  {
   "cell_type": "code",
   "execution_count": 2,
   "metadata": {},
   "outputs": [
    {
     "name": "stdout",
     "output_type": "stream",
     "text": [
      "[]\n"
     ]
    }
   ],
   "source": [
    "print(is_prime(1))"
   ]
  },
  {
   "cell_type": "code",
   "execution_count": 3,
   "metadata": {},
   "outputs": [],
   "source": [
    "def solution(S):\n",
    "    for k in range(len(S)):\n",
    "        for i in range(len(S)-k+1):\n",
    "            lowerSet = []\n",
    "            upperSet = []\n",
    "            temp = S[i:i+k]\n",
    "            for elem in temp:\n",
    "                if elem.islower():\n",
    "                    lowerSet.append(elem)\n",
    "                else: \n",
    "                    upperSet.append(elem)\n",
    "    upperSet = set(upperSet)\n",
    "    lowerSet = set(lowerSet)\n",
    "    if len(upperSet) == len(lowerSet):\n",
    "        return len(upperSet)\n",
    "            \n",
    "        "
   ]
  }
 ],
 "metadata": {
  "kernelspec": {
   "display_name": "Python 3",
   "language": "python",
   "name": "python3"
  },
  "language_info": {
   "codemirror_mode": {
    "name": "ipython",
    "version": 3
   },
   "file_extension": ".py",
   "mimetype": "text/x-python",
   "name": "python",
   "nbconvert_exporter": "python",
   "pygments_lexer": "ipython3",
   "version": "3.8.7"
  }
 },
 "nbformat": 4,
 "nbformat_minor": 4
}
