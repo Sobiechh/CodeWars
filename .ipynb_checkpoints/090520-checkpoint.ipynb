{
 "cells": [
  {
   "cell_type": "markdown",
   "metadata": {},
   "source": [
    "Your task is to Find the next higher number (int) with same '1'- Bits.\n",
    "\n",
    "I.e. as much '1' bits as before and output next higher than input. Input is always an int >0 up to 1<<30. No bad cases or special tricks...\n",
    "\n",
    "Some easy examples:\n",
    "\n",
    "Input: 129  => Output: 130 (10000001 => 10000010)\n",
    "Input: 127 => Output: 191 (01111111 => 10111111)\n",
    "Input: 1 => Output: 2 (01 => 10)\n",
    "Input: 323423 => Output: 323439 (1001110111101011111 => 1001110111101101111)\n",
    "First some static tests, later on many random tests too;-)!\n",
    "\n",
    "Hope you have fun:-)!"
   ]
  },
  {
   "cell_type": "code",
   "execution_count": 13,
   "metadata": {},
   "outputs": [
    {
     "name": "stdout",
     "output_type": "stream",
     "text": [
      "111\n",
      "3\n"
     ]
    }
   ],
   "source": [
    "a = 7\n",
    "print(bin(a)[2:])\n",
    "print(list(bin(a)[2:]).count('1'))\n"
   ]
  },
  {
   "cell_type": "code",
   "execution_count": 16,
   "metadata": {},
   "outputs": [],
   "source": [
    "def next_higher(value):\n",
    "    ones = list(bin(value)[2:]).count('1')\n",
    "    i = 1\n",
    "    while i:\n",
    "        next_bin = bin(value+i)\n",
    "        if list(next_bin[2:]).count('1') == ones:            \n",
    "            break\n",
    "        i+=1"
   ]
  },
  {
   "cell_type": "code",
   "execution_count": null,
   "metadata": {},
   "outputs": [],
   "source": [
    "next_higher(a)"
   ]
  },
  {
   "cell_type": "code",
   "execution_count": null,
   "metadata": {},
   "outputs": [],
   "source": []
  }
 ],
 "metadata": {
  "kernelspec": {
   "display_name": "Python 3",
   "language": "python",
   "name": "python3"
  },
  "language_info": {
   "codemirror_mode": {
    "name": "ipython",
    "version": 3
   },
   "file_extension": ".py",
   "mimetype": "text/x-python",
   "name": "python",
   "nbconvert_exporter": "python",
   "pygments_lexer": "ipython3",
   "version": "3.7.4"
  }
 },
 "nbformat": 4,
 "nbformat_minor": 4
}
