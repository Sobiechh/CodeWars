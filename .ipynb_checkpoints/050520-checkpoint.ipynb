{
 "cells": [
  {
   "cell_type": "code",
   "execution_count": 1,
   "metadata": {},
   "outputs": [],
   "source": [
    "def print_directory_contents(sPath):\n",
    "    import os                                       \n",
    "    for sChild in os.listdir(sPath):                \n",
    "        sChildPath = os.path.join(sPath,sChild)\n",
    "        if os.path.isdir(sChildPath):\n",
    "            print_directory_contents(sChildPath)\n",
    "        else:\n",
    "            print(sChildPath)"
   ]
  },
  {
   "cell_type": "code",
   "execution_count": 6,
   "metadata": {},
   "outputs": [
    {
     "name": "stdout",
     "output_type": "stream",
     "text": [
      "..\\CodeWars\\.git\\COMMIT_EDITMSG\n",
      "..\\CodeWars\\.git\\config\n",
      "..\\CodeWars\\.git\\description\n",
      "..\\CodeWars\\.git\\FETCH_HEAD\n",
      "..\\CodeWars\\.git\\HEAD\n",
      "..\\CodeWars\\.git\\hooks\\applypatch-msg.sample\n",
      "..\\CodeWars\\.git\\hooks\\commit-msg.sample\n",
      "..\\CodeWars\\.git\\hooks\\fsmonitor-watchman.sample\n",
      "..\\CodeWars\\.git\\hooks\\post-update.sample\n",
      "..\\CodeWars\\.git\\hooks\\pre-applypatch.sample\n",
      "..\\CodeWars\\.git\\hooks\\pre-commit.sample\n",
      "..\\CodeWars\\.git\\hooks\\pre-merge-commit.sample\n",
      "..\\CodeWars\\.git\\hooks\\pre-push.sample\n",
      "..\\CodeWars\\.git\\hooks\\pre-rebase.sample\n",
      "..\\CodeWars\\.git\\hooks\\pre-receive.sample\n",
      "..\\CodeWars\\.git\\hooks\\prepare-commit-msg.sample\n",
      "..\\CodeWars\\.git\\hooks\\update.sample\n",
      "..\\CodeWars\\.git\\index\n",
      "..\\CodeWars\\.git\\info\\exclude\n",
      "..\\CodeWars\\.git\\logs\\HEAD\n",
      "..\\CodeWars\\.git\\logs\\refs\\heads\\master\n",
      "..\\CodeWars\\.git\\logs\\refs\\remotes\\origin\\HEAD\n",
      "..\\CodeWars\\.git\\logs\\refs\\remotes\\origin\\master\n",
      "..\\CodeWars\\.git\\objects\\15\\904f7c610eab4ba0aea131af6f84357147bc08\n",
      "..\\CodeWars\\.git\\objects\\16\\680b90ef4c27590ce6b39bf7ad2f6fbe4ef89d\n",
      "..\\CodeWars\\.git\\objects\\17\\87272d14afb3e01171a538720d5605294916f2\n",
      "..\\CodeWars\\.git\\objects\\2b\\9d690ea13fb2e34e0b5ef57d5596cb39fbd817\n",
      "..\\CodeWars\\.git\\objects\\35\\1d84d39e329c87e5a44b3881b8cc8e09a760d0\n",
      "..\\CodeWars\\.git\\objects\\4c\\66b5b3c56148ce68650f1d892bda53b60fe5e9\n",
      "..\\CodeWars\\.git\\objects\\52\\63ec12d236727e7a8c583b2d6bef80a1792957\n",
      "..\\CodeWars\\.git\\objects\\6d\\5bdd15d56ddfdf1262781c3bf61f414343b6ff\n",
      "..\\CodeWars\\.git\\objects\\79\\3118f261a15a744415dca4f0d3b715be3a698b\n",
      "..\\CodeWars\\.git\\objects\\84\\ed44c2d6eaf97f12584181e26d446fd3df0d06\n",
      "..\\CodeWars\\.git\\objects\\87\\0bb52b148f325d1cbf1c2dae63b39d9fc0387a\n",
      "..\\CodeWars\\.git\\objects\\88\\7573e2e9e81860af5c0305366a7bfa7a7de6a1\n",
      "..\\CodeWars\\.git\\objects\\9f\\0bab03597b6f409b5e559df0d67f9af53d7de8\n",
      "..\\CodeWars\\.git\\objects\\af\\f7b647a14b072e9725450aed65206939bfae5b\n",
      "..\\CodeWars\\.git\\objects\\b6\\452bc5bdc48754955bac420e38f63c2a47bdb2\n",
      "..\\CodeWars\\.git\\objects\\b7\\fd1307b120f09fe317f85e6e3bc51707b57591\n",
      "..\\CodeWars\\.git\\objects\\bc\\c3ba753f59b3ef7b67006ffaf581fa01f3ed6c\n",
      "..\\CodeWars\\.git\\objects\\bc\\fce3d7fd131ff6d94ca4a46de7e54eda4c343b\n",
      "..\\CodeWars\\.git\\objects\\d1\\f9e698a8c6e667d7f3f24d8a5b87cdd8fdf237\n",
      "..\\CodeWars\\.git\\objects\\d3\\0d31ed32d7612b2e321fe237a0db56463f00e5\n",
      "..\\CodeWars\\.git\\objects\\f2\\14079fbd81730350b74063a1c573dba2fd9478\n",
      "..\\CodeWars\\.git\\objects\\f4\\1166571d6fd9cbbe94673332daeb6082e5dfd7\n",
      "..\\CodeWars\\.git\\objects\\fd\\9ee7c09426124fc543a3bcbfddafd96e1f9e34\n",
      "..\\CodeWars\\.git\\objects\\pack\\pack-02713a64a5edddb1e49fc8b43fc9d4c2362bb876.idx\n",
      "..\\CodeWars\\.git\\objects\\pack\\pack-02713a64a5edddb1e49fc8b43fc9d4c2362bb876.pack\n",
      "..\\CodeWars\\.git\\ORIG_HEAD\n",
      "..\\CodeWars\\.git\\packed-refs\n",
      "..\\CodeWars\\.git\\refs\\heads\\master\n",
      "..\\CodeWars\\.git\\refs\\remotes\\origin\\HEAD\n",
      "..\\CodeWars\\.git\\refs\\remotes\\origin\\master\n",
      "..\\CodeWars\\.ipynb_checkpoints\\040520-checkpoint.ipynb\n",
      "..\\CodeWars\\.ipynb_checkpoints\\050520-checkpoint.ipynb\n",
      "..\\CodeWars\\.ipynb_checkpoints\\090320-checkpoint.ipynb\n",
      "..\\CodeWars\\.ipynb_checkpoints\\180320-checkpoint.ipynb\n",
      "..\\CodeWars\\.ipynb_checkpoints\\200320-checkpoint.ipynb\n",
      "..\\CodeWars\\.ipynb_checkpoints\\240420-checkpoint.ipynb\n",
      "..\\CodeWars\\.ipynb_checkpoints\\sudoku solver-checkpoint.ipynb\n",
      "..\\CodeWars\\040520.ipynb\n",
      "..\\CodeWars\\050520.ipynb\n",
      "..\\CodeWars\\090320.ipynb\n",
      "..\\CodeWars\\180320.ipynb\n",
      "..\\CodeWars\\200320.ipynb\n",
      "..\\CodeWars\\240420.ipynb\n",
      "..\\CodeWars\\290320.ipynb\n",
      "..\\CodeWars\\300320.ipynb\n",
      "..\\CodeWars\\pyramid.py\n",
      "..\\CodeWars\\sudoku solver.ipynb\n"
     ]
    }
   ],
   "source": [
    "print_directory_contents(\"..\")"
   ]
  },
  {
   "cell_type": "markdown",
   "metadata": {},
   "source": [
    "Take an input string and return a string that is made up of the number of occurances of each english letter in the input, followed by that letter. The string shouldn't contain zeros; leave them out.\n",
    "\n",
    "An empty string, or one with no letters, should return an empty string.\n",
    "\n",
    "Notes:\n",
    "\n",
    "the input will always be valid;\n",
    "treat letters as case-insensitive\n",
    "Examples\n",
    "\"This is a test sentence.\"  ==>  \"1a1c4e1h2i2n4s4t\"\n",
    "\"\"                          ==>  \"\"\n",
    "\"555\"                       ==>  \"\""
   ]
  },
  {
   "cell_type": "code",
   "execution_count": 52,
   "metadata": {},
   "outputs": [],
   "source": [
    "def string_letter_count(s):\n",
    "    s = [x.lower() for x in list(s) if x.isalpha()]\n",
    "    chars = sorted(list(set(s)))\n",
    "    counts = [s.count(x) for x in chars]\n",
    "    res = \"\"\n",
    "    for i in range(len(counts)):\n",
    "        res += f\"{str(counts[i])+chars[i]}\"\n",
    "    return res"
   ]
  },
  {
   "cell_type": "code",
   "execution_count": 53,
   "metadata": {},
   "outputs": [
    {
     "data": {
      "text/plain": [
       "'1a1b1c1d3e1f1g2h1i1j1k1l1m1n4o1p1q2r1s2t2u1v1w1x1y1z'"
      ]
     },
     "execution_count": 53,
     "metadata": {},
     "output_type": "execute_result"
    }
   ],
   "source": [
    "string = \"The quick brown fox jumps over the lazy dog.\"\n",
    "string_letter_count(string)"
   ]
  },
  {
   "cell_type": "markdown",
   "metadata": {},
   "source": [
    "This is the first of my \"-nacci\" series. If you like this kata, check out the zozonacci sequence too.\n",
    "\n",
    "Task\n",
    "Mix -nacci sequences using a given pattern p.\n",
    "Return the first n elements of the mixed sequence.\n",
    "Rules\n",
    "The pattern p is given as a list of strings (or array of symbols in Ruby) using the pattern mapping below (e. g. ['fib', 'pad', 'pel'] means take the next fibonacci, then the next padovan, then the next pell number and so on).\n",
    "When n is 0 or p is empty return an empty list.\n",
    "If the length of p is more than n repeat the pattern.\n",
    "Examples\n",
    "            0  1  2  3  4  \n",
    "----------+------------------\n",
    "fibonacci:| 0, 1, 1, 2, 3 ...\n",
    "padovan:  | 1, 0, 0, 1, 0 ...\n",
    "pell:     | 0, 1, 2, 5, 12 ...\n",
    "\n",
    "pattern = ['fib', 'pad', 'pel']\n",
    "n = 6\n",
    "#          ['fib',        'pad',      'pel',   'fib',        'pad',      'pel']\n",
    "# result = [fibonacci(0), padovan(0), pell(0), fibonacci(1), padovan(1), pell(1)]\n",
    "result = [0, 1, 0, 1, 0, 1]\n",
    "\n",
    "pattern = ['fib', 'fib', 'pel']\n",
    "n = 6\n",
    "#          ['fib', 'fib', 'pel', 'fib', 'fib', 'pel']\n",
    "# result = [fibonacci(0), fibonacci(1), pell(0), fibonacci(2), fibonacci(3), pell(1)]\n",
    "result = [0, 1, 0, 1, 2, 1]\n",
    "Sequences\n",
    "fibonacci : 0, 1, 1, 2, 3 ...\n",
    "padovan: 1, 0, 0, 1, 0 ...\n",
    "jacobsthal: 0, 1, 1, 3, 5 ...\n",
    "pell: 0, 1, 2, 5, 12 ...\n",
    "tribonacci: 0, 0, 1, 1, 2 ...\n",
    "tetranacci: 0, 0, 0, 1, 1 ...\n",
    "Pattern mapping\n",
    "'fib' -> fibonacci\n",
    "'pad' -> padovan\n",
    "'jac' -> jacobstahl\n",
    "'pel' -> pell\n",
    "'tri' -> tribonacci\n",
    "'tet' -> tetranacci\n",
    "If you like this kata, check out the zozonacci sequence."
   ]
  },
  {
   "cell_type": "code",
   "execution_count": 173,
   "metadata": {},
   "outputs": [],
   "source": [
    "#wszystkie te fibo nie fibo\n",
    "def fib(n):\n",
    "    if n == 0:\n",
    "        return 0\n",
    "    if n == 1:\n",
    "        return 1\n",
    "    if n>1:\n",
    "        return fib(n-1) + fib(n-2)\n",
    "\n",
    "def pad(n):\n",
    "    if n == 0:\n",
    "        return 1\n",
    "    if n == 1 or n == 2:\n",
    "        return 0\n",
    "    if n>2:\n",
    "        return pad(n-2) + pad(n-3)\n",
    "\n",
    "\n",
    "def jac(n):\n",
    "    if n == 0:\n",
    "        return 0\n",
    "    if n == 1:\n",
    "        return 1\n",
    "    if n>1:\n",
    "        return jac(n-1) + 2*jac(n-2)\n",
    "    \n",
    "def pel(n):\n",
    "    if n == 0:\n",
    "        return 0\n",
    "    if n == 1:\n",
    "        return 1\n",
    "    if n>1:\n",
    "        return 2*pel(n-1) + pel(n-2)\n",
    "    \n",
    "def tri(n):\n",
    "    if n == 0 or n == 1:\n",
    "        return 0\n",
    "    if n == 2:\n",
    "        return 1\n",
    "    if n>2:\n",
    "        return tri(n-1) + tri(n-2) + tri(n-3)\n",
    "    \n",
    "def tet(n):\n",
    "    if n == 0 or n == 1 or n == 2:\n",
    "        return 0\n",
    "    if n == 3:\n",
    "        return 1\n",
    "    if n>3:\n",
    "        return tet(n-1) + tet(n-2) + tet(n-3) + tet(n-4)\n",
    "\n",
    "    \n",
    "def mixbonacci(pattern, length):\n",
    "    if pattern == []:\n",
    "        return []\n",
    "    \n",
    "    #tablica patternow\n",
    "    t = [pattern[i%len(pattern)] for i in range(length)]\n",
    "    t_set = list(set(t))\n",
    "    t_counts = [t.count(x)-1 for x in t_set]\n",
    "    for i in range(len(t)-1, -1, -1):\n",
    "        if  t[i] == 'fib':\n",
    "            x = fib(t_counts[t_set.index(t[i])])\n",
    "            t_counts[t_set.index(t[i])]-=1 \n",
    "            t[i] = x\n",
    "        elif t[i] == 'pad':\n",
    "            x = pad(t_counts[t_set.index(t[i])])\n",
    "            t_counts[t_set.index(t[i])]-=1 \n",
    "            t[i] = x\n",
    "        elif t[i] == 'jac':\n",
    "            x = jac(t_counts[t_set.index(t[i])])\n",
    "            t_counts[t_set.index(t[i])]-=1 \n",
    "            t[i] = x\n",
    "        elif t[i] == 'pel':\n",
    "            x = pel(t_counts[t_set.index(t[i])])\n",
    "            t_counts[t_set.index(t[i])]-=1 \n",
    "            t[i] = x\n",
    "        elif t[i] == 'tri':\n",
    "            x = tri(t_counts[t_set.index(t[i])])\n",
    "            t_counts[t_set.index(t[i])]-=1 \n",
    "            t[i] = x\n",
    "        elif t[i] == 'tet':\n",
    "            x = tet(t_counts[t_set.index(t[i])])\n",
    "            t_counts[t_set.index(t[i])]-=1 \n",
    "            t[i] = x\n",
    "    \n",
    "    return t\n",
    "    "
   ]
  },
  {
   "cell_type": "code",
   "execution_count": 174,
   "metadata": {},
   "outputs": [
    {
     "data": {
      "text/plain": [
       "[0, 1, 0, 1, 3, 1, 5, 11, 2, 21]"
      ]
     },
     "execution_count": 174,
     "metadata": {},
     "output_type": "execute_result"
    }
   ],
   "source": [
    "mixbonacci(['jac', 'jac', 'pel'], 10)"
   ]
  },
  {
   "cell_type": "code",
   "execution_count": 175,
   "metadata": {},
   "outputs": [
    {
     "data": {
      "text/plain": [
       "[0, 0, 1, 0, 1, 0, 2, 1, 3, 1]"
      ]
     },
     "execution_count": 175,
     "metadata": {},
     "output_type": "execute_result"
    }
   ],
   "source": [
    "mixbonacci(['fib', 'tet'], 10)"
   ]
  },
  {
   "cell_type": "code",
   "execution_count": 176,
   "metadata": {},
   "outputs": [
    {
     "data": {
      "text/plain": [
       "[0, 0, 0, 1, 1]"
      ]
     },
     "execution_count": 176,
     "metadata": {},
     "output_type": "execute_result"
    }
   ],
   "source": [
    "mixbonacci(['tet'], 5)"
   ]
  },
  {
   "cell_type": "code",
   "execution_count": 177,
   "metadata": {},
   "outputs": [],
   "source": [
    "#  [0, 0, 1, 0, 1, 0, 2, 1, 3, 1]"
   ]
  },
  {
   "cell_type": "markdown",
   "metadata": {},
   "source": [
    "# better funcs"
   ]
  },
  {
   "cell_type": "code",
   "execution_count": 178,
   "metadata": {},
   "outputs": [],
   "source": [
    "def fib():\n",
    "    a, b = 0, 1\n",
    "    while True:\n",
    "        yield a\n",
    "        a, b = b, a + b\n",
    "        \n",
    "def pad():\n",
    "    a, b, c = 1, 0, 0\n",
    "    while True:\n",
    "        yield a\n",
    "        a, b, c = b, c, a + b\n",
    "\n",
    "def jac():\n",
    "    a, b = 0, 1\n",
    "    while True:\n",
    "        yield a\n",
    "        a, b = b, b + 2 * a\n",
    "\n",
    "def pel():\n",
    "    a, b = 0, 1\n",
    "    while True:\n",
    "        yield a\n",
    "        a, b = b, a + 2 * b\n",
    "        \n",
    "def tri():\n",
    "    a, b, c = 0, 0, 1\n",
    "    while True:\n",
    "        yield a\n",
    "        a, b, c = b, c, a + b + c\n",
    "        \n",
    "def tet():\n",
    "    a, b, c, d = 0, 0, 0, 1\n",
    "    while True:\n",
    "        yield a\n",
    "        a, b, c, d = b, c, d, a + b + c + d"
   ]
  },
  {
   "cell_type": "code",
   "execution_count": null,
   "metadata": {},
   "outputs": [],
   "source": []
  }
 ],
 "metadata": {
  "kernelspec": {
   "display_name": "Python 3",
   "language": "python",
   "name": "python3"
  },
  "language_info": {
   "codemirror_mode": {
    "name": "ipython",
    "version": 3
   },
   "file_extension": ".py",
   "mimetype": "text/x-python",
   "name": "python",
   "nbconvert_exporter": "python",
   "pygments_lexer": "ipython3",
   "version": "3.7.6"
  }
 },
 "nbformat": 4,
 "nbformat_minor": 4
}
