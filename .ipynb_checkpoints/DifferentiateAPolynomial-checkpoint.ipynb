{
 "cells": [
  {
   "cell_type": "markdown",
   "metadata": {},
   "source": [
    "# Create a function that differentiates a polynomial for a given value of x.\n",
    "\n",
    "# Your function will receive 2 arguments: a polynomial as a string, and a point to evaluate the equation as an integer.\n",
    "\n",
    "## Assumptions:\n",
    "# There will be a coefficient near each x, unless the coefficient equals 1 or -1.\n",
    "# There will be an exponent near each x, unless the exponent equals 0 or 1.\n",
    "# All exponents will be greater or equal to zero\n",
    "\n",
    "## Examples:\n",
    "\n",
    "# differenatiate(\"12x+2\", 3)      ==>   returns 12\n",
    "# differenatiate(\"x^2+3x+2\", 3)   ==>   returns 9"
   ]
  },
  {
   "cell_type": "code",
   "execution_count": 1,
   "metadata": {},
   "outputs": [],
   "source": [
    "import re\n",
    "def differentiate(equation, point):\n",
    "    sum = []\n",
    "    plusmin = [x for x in equation if x in ['+','-']]\n",
    "\n",
    "    eq = re.split('\\+|-', equation)\n",
    "    eq = [x for x in eq if x]\n",
    "    for word in eq:\n",
    "        elms = word.split('^')\n",
    "        #print(elms)\n",
    "        #przypadek jak po podzieleniu dl jest jeden czyli nie ma potegi\n",
    "        if len(elms) == 1: #przypadek same x\n",
    "            if len(elms[0]) == 1: \n",
    "                if elms[0] == 'x': #przypadek samego x\n",
    "                    sum.append(1)\n",
    "                elif elms[0] != 'x': #a\n",
    "                    sum.append(0)\n",
    "            elif len(elms[0]) != 1:\n",
    "                if elms[0][-1] == 'x': #ax\n",
    "                    sum.append(int(elms[0][:-1]))\n",
    "                else:\n",
    "                    sum.append(0)\n",
    "            \n",
    "        else: #czyli jak mamy potegi \n",
    "            if len(elms[0]) == 1: \n",
    "                if elms[0] == 'x': #przypadek samego x i jakas tam potega\n",
    "                    sum.append(1 * int(elms[1]) * (point**(int(elms[1])-1)))\n",
    "                elif elms[0] != 'x': #impossible??\n",
    "                    sum.append(0)\n",
    "            elif len(elms[0]) != 1:\n",
    "                if elms[0][-1] == 'x': #ax\n",
    "                    sum.append(int(elms[0][:-1]) * int(elms[1])* (point**(int(elms[1])-1)))\n",
    "                else: #impossible?\n",
    "                    sum.append(0)\n",
    "            \n",
    "            #elm 0 without x\n",
    "    print(sum)\n",
    "    print(plusmin)\n",
    "    wynik = 0\n",
    "    \n",
    "    for i in range(len(plusmin)):\n",
    "        if plusmin[i] == '-':\n",
    "            plusmin[i] = -1\n",
    "        if plusmin[i] == '+':\n",
    "            plusmin[i] = 1\n",
    "        \n",
    "    common = [None]*(len(sum)+len(plusmin))\n",
    "    \n",
    "    if len(sum) > len(plusmin):\n",
    "        common[::2] = sum\n",
    "        common[1::2] = plusmin\n",
    "        wynik += int(common[0])\n",
    "        for i in range(1,len(common)-1,2):\n",
    "            wynik += int(common[i]*common[i+1])\n",
    "        \n",
    "    else:\n",
    "        common[1::2] = sum\n",
    "        common[::2] = plusmin\n",
    "        wynik += int(common[0]*common[1])\n",
    "        for i in range(2,len(common)-1,2):\n",
    "            wynik += int(common[i]*common[i+1])\n",
    "            \n",
    "        \n",
    "    print(common)\n",
    "    \n",
    "    \n",
    "    return wynik"
   ]
  },
  {
   "cell_type": "code",
   "execution_count": 2,
   "metadata": {},
   "outputs": [
    {
     "name": "stdout",
     "output_type": "stream",
     "text": [
      "[405, 1296, 189, 6, 1]\n",
      "['+', '+', '-', '-']\n",
      "[405, 1, 1296, 1, 189, -1, 6, -1, 1]\n"
     ]
    },
    {
     "data": {
      "text/plain": [
       "1883"
      ]
     },
     "execution_count": 2,
     "metadata": {},
     "output_type": "execute_result"
    }
   ],
   "source": [
    "differentiate(\"x^5+12x^4+7x^3-1x^2-x\", 3)"
   ]
  },
  {
   "cell_type": "code",
   "execution_count": 3,
   "metadata": {},
   "outputs": [
    {
     "name": "stdout",
     "output_type": "stream",
     "text": [
      "[27, 6]\n",
      "['-']\n",
      "[27, -1, 6]\n"
     ]
    },
    {
     "data": {
      "text/plain": [
       "21"
      ]
     },
     "execution_count": 3,
     "metadata": {},
     "output_type": "execute_result"
    }
   ],
   "source": [
    "differentiate(\"x^3-x^2\", 3)"
   ]
  },
  {
   "cell_type": "code",
   "execution_count": 4,
   "metadata": {},
   "outputs": [
    {
     "name": "stdout",
     "output_type": "stream",
     "text": [
      "[30, 10, 0]\n",
      "['-', '+', '+']\n",
      "[-1, 30, 1, 10, 1, 0]\n"
     ]
    },
    {
     "data": {
      "text/plain": [
       "-20"
      ]
     },
     "execution_count": 4,
     "metadata": {},
     "output_type": "execute_result"
    }
   ],
   "source": [
    "differentiate(\"-5x^2+10x+4\", 3)"
   ]
  }
 ],
 "metadata": {
  "kernelspec": {
   "display_name": "Python 3",
   "language": "python",
   "name": "python3"
  },
  "language_info": {
   "codemirror_mode": {
    "name": "ipython",
    "version": 3
   },
   "file_extension": ".py",
   "mimetype": "text/x-python",
   "name": "python",
   "nbconvert_exporter": "python",
   "pygments_lexer": "ipython3",
   "version": "3.8.7"
  }
 },
 "nbformat": 4,
 "nbformat_minor": 4
}
