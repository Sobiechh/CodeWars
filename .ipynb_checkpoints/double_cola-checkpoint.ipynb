{
 "cells": [
  {
   "cell_type": "markdown",
   "metadata": {},
   "source": [
    "Sheldon, Leonard, Penny, Rajesh and Howard are in the queue for a \"Double Cola\" drink vending machine; there are no other people in the queue. The first one in the queue (Sheldon) buys a can, drinks it and doubles! The resulting two Sheldons go to the end of the queue. Then the next in the queue (Leonard) buys a can, drinks it and gets to the end of the queue as two Leonards, and so on.\n",
    "\n",
    "For example, Penny drinks the third can of cola and the queue will look like this:\n",
    "\n",
    "Rajesh, Howard, Sheldon, Sheldon, Leonard, Leonard, Penny, Penny\n",
    "Write a program that will return the name of the person who will drink the n-th cola.\n",
    "\n",
    "Input:\n",
    "The input data consist of an array which contains at least 1 name, and single integer n which may go as high as the biggest number your language of choice supports (if there's such limit, of course).\n",
    "\n",
    "Output / Examples:\n",
    "Return the single line — the name of the person who drinks the n-th can of cola. The cans are numbered starting from 1.\n",
    "\n",
    "who_is_next([\"Sheldon\", \"Leonard\", \"Penny\", \"Rajesh\", \"Howard\"], 1) == \"Sheldon\"\n",
    "who_is_next([\"Sheldon\", \"Leonard\", \"Penny\", \"Rajesh\", \"Howard\"], 52) == \"Penny\"\n",
    "who_is_next([\"Sheldon\", \"Leonard\", \"Penny\", \"Rajesh\", \"Howard\"], 7230702951) == \"Leonard\""
   ]
  },
  {
   "cell_type": "code",
   "execution_count": 25,
   "metadata": {},
   "outputs": [],
   "source": [
    "names = [\"Sheldon\", \"Leonard\", \"Penny\", \"Rajesh\", \"Howard\"]"
   ]
  },
  {
   "cell_type": "code",
   "execution_count": 26,
   "metadata": {},
   "outputs": [
    {
     "data": {
      "text/plain": [
       "'Howard'"
      ]
     },
     "execution_count": 26,
     "metadata": {},
     "output_type": "execute_result"
    }
   ],
   "source": [
    "x = 55\n",
    "names[(x-1)%len(names)]"
   ]
  },
  {
   "cell_type": "code",
   "execution_count": 27,
   "metadata": {},
   "outputs": [],
   "source": [
    "names2 = [name for name in names for i in range(2)]"
   ]
  },
  {
   "cell_type": "code",
   "execution_count": 33,
   "metadata": {},
   "outputs": [
    {
     "data": {
      "text/plain": [
       "'Leonard'"
      ]
     },
     "execution_count": 33,
     "metadata": {},
     "output_type": "execute_result"
    }
   ],
   "source": [
    "names2[(1802)%len(names)]"
   ]
  },
  {
   "cell_type": "code",
   "execution_count": 34,
   "metadata": {},
   "outputs": [],
   "source": [
    "def who_is_next(names, r):\n",
    "    r = r - 1\n",
    "    while r >= len(names):\n",
    "        r = (r-len(names)) // 2\n",
    "    return names[r]"
   ]
  },
  {
   "cell_type": "code",
   "execution_count": 38,
   "metadata": {},
   "outputs": [
    {
     "data": {
      "text/plain": [
       "'Penny'"
      ]
     },
     "execution_count": 38,
     "metadata": {},
     "output_type": "execute_result"
    }
   ],
   "source": [
    "who_is_next(names, 52)"
   ]
  },
  {
   "cell_type": "code",
   "execution_count": null,
   "metadata": {},
   "outputs": [],
   "source": []
  }
 ],
 "metadata": {
  "kernelspec": {
   "display_name": "Python 3",
   "language": "python",
   "name": "python3"
  },
  "language_info": {
   "codemirror_mode": {
    "name": "ipython",
    "version": 3
   },
   "file_extension": ".py",
   "mimetype": "text/x-python",
   "name": "python",
   "nbconvert_exporter": "python",
   "pygments_lexer": "ipython3",
   "version": "3.7.6"
  }
 },
 "nbformat": 4,
 "nbformat_minor": 4
}
