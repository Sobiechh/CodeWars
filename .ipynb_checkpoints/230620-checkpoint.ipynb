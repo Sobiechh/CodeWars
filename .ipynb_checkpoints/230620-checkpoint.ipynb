{
 "cells": [
  {
   "cell_type": "code",
   "execution_count": 1,
   "metadata": {},
   "outputs": [
    {
     "name": "stdout",
     "output_type": "stream",
     "text": [
      "Podaj liczbe poziomow: 5\n",
      "              1               \n",
      "             1 1              \n",
      "            1 2 1             \n",
      "           1 3 3 1            \n",
      "          1 4 6 4 1           \n"
     ]
    }
   ],
   "source": [
    "def write_list(list):\n",
    "    print(' '.join([str(item) for item in list]).center(30))\n",
    "\n",
    "x = input(\"Podaj liczbe poziomow: \")\n",
    "line = [1]\n",
    "write_list(line)\n",
    "for i in range(int(x) - 1):\n",
    "    next_line = [1]\n",
    "    for j in range(len(line) - 1):\n",
    "        next_line.append(line[j] + line[j + 1])\n",
    "    next_line.append(1)\n",
    "    line = next_line\n",
    "    write_list(line)"
   ]
  },
  {
   "cell_type": "markdown",
   "metadata": {},
   "source": [
    "In this Kata, you will be given a number n (n > 0) and your task will be to return the smallest square number N (N > 0) such that n + N is also a perfect square. If there is no answer, return -1 (nil in Clojure, Nothing in Haskell).\n",
    "\n",
    "solve(13) = 36\n",
    "because 36 is the smallest perfect square that can be added to 13 to form a perfect square => 13 + 36 = 49\n",
    "\n",
    "solve(3) = 1 # 3 + 1 = 4, a perfect square\n",
    "solve(12) = 4 # 12 + 4 = 16, a perfect square\n",
    "solve(9) = 16 \n",
    "solve(4) = -1"
   ]
  },
  {
   "cell_type": "code",
   "execution_count": 104,
   "metadata": {},
   "outputs": [
    {
     "data": {
      "text/plain": [
       "429235524"
      ]
     },
     "execution_count": 104,
     "metadata": {},
     "output_type": "execute_result"
    }
   ],
   "source": [
    "from math import sqrt\n",
    "\n",
    "def solve(n):\n",
    "    if sqrt(n)%1 == 0.0:\n",
    "        return -1\n",
    "    N = 1\n",
    "    while True:\n",
    "        if sqrt(N**2+n)%1 == 0.0:\n",
    "            return N**2\n",
    "        N += 1\n",
    "\n",
    "solve(290101)"
   ]
  },
  {
   "cell_type": "markdown",
   "metadata": {},
   "source": [
    "This problem takes its name by arguably the most important event in the life of the ancient historian Josephus: according to his tale, he and his 40 soldiers were trapped in a cave by the Romans during a siege.\n",
    "\n",
    "Refusing to surrender to the enemy, they instead opted for mass suicide, with a twist: they formed a circle and proceeded to kill one man every three, until one last man was left (and that it was supposed to kill himself to end the act).\n",
    "\n",
    "Well, Josephus and another man were the last two and, as we now know every detail of the story, you may have correctly guessed that they didn't exactly follow through the original idea.\n",
    "\n",
    "You are now to create a function that returns a Josephus permutation, taking as parameters the initial array/list of items to be permuted as if they were in a circle and counted out every k places until none remained.\n",
    "\n",
    "Tips and notes: it helps to start counting from 1 up to n, instead of the usual range 0..n-1; k will always be >=1.\n",
    "\n",
    "For example, with n=7 and k=3 josephus(7,3) should act this way.\n",
    "\n",
    "[1,2,3,4,5,6,7] - initial sequence\n",
    "[1,2,4,5,6,7] => 3 is counted out and goes into the result [3]\n",
    "[1,2,4,5,7] => 6 is counted out and goes into the result [3,6]\n",
    "[1,4,5,7] => 2 is counted out and goes into the result [3,6,2]\n",
    "[1,4,5] => 7 is counted out and goes into the result [3,6,2,7]\n",
    "[1,4] => 5 is counted out and goes into the result [3,6,2,7,5]\n",
    "[4] => 1 is counted out and goes into the result [3,6,2,7,5,1]\n",
    "[] => 4 is counted out and goes into the result [3,6,2,7,5,1,4]"
   ]
  },
  {
   "cell_type": "code",
   "execution_count": 129,
   "metadata": {},
   "outputs": [],
   "source": [
    "def josephus(items,k):\n",
    "    t = []\n",
    "    \n",
    "    if items == []:\n",
    "        return []\n",
    "    \n",
    "    pt = (k - 1)  % len(items)\n",
    "    \n",
    "    while len(items)>1:\n",
    "        t.append(items.pop(pt))\n",
    "        pt = (pt + k - 1)%len(items)\n",
    "    t.append(items.pop(0))\n",
    "    return t"
   ]
  },
  {
   "cell_type": "code",
   "execution_count": 130,
   "metadata": {},
   "outputs": [
    {
     "data": {
      "text/plain": [
       "[10, 7, 8, 13, 5, 4, 12, 11, 3, 15, 14, 9, 1, 6, 2]"
      ]
     },
     "execution_count": 130,
     "metadata": {},
     "output_type": "execute_result"
    }
   ],
   "source": [
    "josephus([1,2,3,4,5,6,7,8,9,10,11,12,13,14,15],40)"
   ]
  },
  {
   "cell_type": "code",
   "execution_count": null,
   "metadata": {},
   "outputs": [],
   "source": []
  },
  {
   "cell_type": "code",
   "execution_count": null,
   "metadata": {},
   "outputs": [],
   "source": []
  }
 ],
 "metadata": {
  "kernelspec": {
   "display_name": "Python 3",
   "language": "python",
   "name": "python3"
  },
  "language_info": {
   "codemirror_mode": {
    "name": "ipython",
    "version": 3
   },
   "file_extension": ".py",
   "mimetype": "text/x-python",
   "name": "python",
   "nbconvert_exporter": "python",
   "pygments_lexer": "ipython3",
   "version": "3.7.6"
  }
 },
 "nbformat": 4,
 "nbformat_minor": 4
}
