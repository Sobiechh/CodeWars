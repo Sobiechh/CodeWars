{
 "cells": [
  {
   "cell_type": "markdown",
   "metadata": {},
   "source": [
    "# WarmUp"
   ]
  },
  {
   "cell_type": "code",
   "execution_count": 2,
   "metadata": {},
   "outputs": [
    {
     "name": "stdout",
     "output_type": "stream",
     "text": [
      "Enetr height: 3\n",
      "              1               \n",
      "             1 1              \n",
      "            1 2 1             \n"
     ]
    }
   ],
   "source": [
    "def write_list(list):\n",
    "    print(' '.join([str(item) for item in list]).center(30))\n",
    "\n",
    "x = input(\"Enetr height: \")\n",
    "line = [1]\n",
    "write_list(line)\n",
    "for i in range(int(x) - 1):\n",
    "    next_line = [1]\n",
    "    for j in range(len(line) - 1):\n",
    "        next_line.append(line[j] + line[j + 1])\n",
    "    next_line.append(1)\n",
    "    line = next_line\n",
    "    write_list(line)"
   ]
  },
  {
   "cell_type": "markdown",
   "metadata": {},
   "source": [
    "In this Kata, you will be given a number n (n > 0) and your task will be to return the smallest square number N (N > 0) such that n + N is also a perfect square. If there is no answer, return -1 (nil in Clojure, Nothing in Haskell).\n",
    "\n",
    "solve(13) = 36 because 36 is the smallest perfect square that can be added to 13 to form a perfect square => 13 + 36 = 49\n",
    "\n",
    "solve(3) = 1 # 3 + 1 = 4, a perfect square solve(12) = 4 # 12 + 4 = 16, a perfect square solve(9) = 16 solve(4) = -1"
   ]
  },
  {
   "cell_type": "code",
   "execution_count": 3,
   "metadata": {},
   "outputs": [],
   "source": [
    "from math import sqrt\n",
    "\n",
    "def solve(n):\n",
    "    if sqrt(n)%1 == 0.0:\n",
    "        return -1\n",
    "    N = 1\n",
    "    while True:\n",
    "        if sqrt(N**2+n)%1 == 0.0:\n",
    "            return N**2\n",
    "        N += 1"
   ]
  },
  {
   "cell_type": "code",
   "execution_count": 4,
   "metadata": {},
   "outputs": [
    {
     "data": {
      "text/plain": [
       "429235524"
      ]
     },
     "execution_count": 4,
     "metadata": {},
     "output_type": "execute_result"
    }
   ],
   "source": [
    "solve(290101)"
   ]
  }
 ],
 "metadata": {
  "kernelspec": {
   "display_name": "Python 3",
   "language": "python",
   "name": "python3"
  },
  "language_info": {
   "codemirror_mode": {
    "name": "ipython",
    "version": 3
   },
   "file_extension": ".py",
   "mimetype": "text/x-python",
   "name": "python",
   "nbconvert_exporter": "python",
   "pygments_lexer": "ipython3",
   "version": "3.8.7"
  }
 },
 "nbformat": 4,
 "nbformat_minor": 4
}
