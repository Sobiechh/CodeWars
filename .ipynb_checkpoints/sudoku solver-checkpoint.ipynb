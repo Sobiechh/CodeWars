{
 "cells": [
  {
   "cell_type": "code",
   "execution_count": 101,
   "metadata": {},
   "outputs": [],
   "source": [
    "def possible(puzzle ,x , y, n):\n",
    "    #check row \n",
    "    for i in range(9):\n",
    "        if puzzle[x][i] == n:\n",
    "            return False\n",
    "    \n",
    "    #check column\n",
    "    for i in range(9):\n",
    "        if puzzle[i][y] == n:\n",
    "            return False\n",
    "    \n",
    "    #check boxes\n",
    "    x0 = (x//3) * 3\n",
    "    y0 = (y//3) * 3\n",
    "    \n",
    "    for i in range(0, 3):\n",
    "        for j in range(0, 3):\n",
    "            if puzzle[x0+i][y0+j] == n:\n",
    "                return False\n",
    "    \n",
    "    return True\n",
    "\n",
    "def solve(puzzle):\n",
    "    tab = [1]\n",
    "    for i in range(9): #row\n",
    "        for j in range(9): #col\n",
    "            if puzzle[i][j] == 0: #find empty\n",
    "                for n in range(1,10):  #try to fill \n",
    "                    if possible(puzzle, i, j, n):\n",
    "                        puzzle[i][j] = n \n",
    "                        if solve(puzzle):\n",
    "                            return True\n",
    "                        puzzle[i][j] =0\n",
    "                return False\n",
    "    return tab\n",
    "    \n",
    "\n",
    "def sudoku(puzzle):\n",
    "    solve(puzzle)\n",
    "    return puzzle\n",
    "\n",
    "    "
   ]
  },
  {
   "cell_type": "code",
   "execution_count": 102,
   "metadata": {},
   "outputs": [
    {
     "data": {
      "text/plain": [
       "[[5, 3, 4, 6, 7, 8, 9, 1, 2],\n",
       " [6, 7, 2, 1, 9, 5, 3, 4, 8],\n",
       " [1, 9, 8, 3, 4, 2, 5, 6, 7],\n",
       " [8, 5, 9, 7, 6, 1, 4, 2, 3],\n",
       " [4, 2, 6, 8, 5, 3, 7, 9, 1],\n",
       " [7, 1, 3, 9, 2, 4, 8, 5, 6],\n",
       " [9, 6, 1, 5, 3, 7, 2, 8, 4],\n",
       " [2, 8, 7, 4, 1, 9, 6, 3, 5],\n",
       " [3, 4, 5, 2, 8, 6, 1, 7, 9]]"
      ]
     },
     "execution_count": 102,
     "metadata": {},
     "output_type": "execute_result"
    }
   ],
   "source": [
    "puzzle = [[5,3,0,0,7,0,0,0,0],\n",
    "          [6,0,0,1,9,5,0,0,0],\n",
    "          [0,9,8,0,0,0,0,6,0],\n",
    "          [8,0,0,0,6,0,0,0,3],\n",
    "          [4,0,0,8,0,3,0,0,1],\n",
    "          [7,0,0,0,2,0,0,0,6],\n",
    "          [0,6,0,0,0,0,2,8,0],\n",
    "          [0,0,0,4,1,9,0,0,5],\n",
    "          [0,0,0,0,8,0,0,7,9]]\n",
    "\n",
    "\n",
    "solution = [[5,3,4,6,7,8,9,1,2],\n",
    "            [6,7,2,1,9,5,3,4,8],\n",
    "            [1,9,8,3,4,2,5,6,7],\n",
    "            [8,5,9,7,6,1,4,2,3],\n",
    "            [4,2,6,8,5,3,7,9,1],\n",
    "            [7,1,3,9,2,4,8,5,6],\n",
    "            [9,6,1,5,3,7,2,8,4],\n",
    "            [2,8,7,4,1,9,6,3,5],\n",
    "            [3,4,5,2,8,6,1,7,9]]\n",
    "\n",
    "sudoku(puzzle)\n"
   ]
  },
  {
   "cell_type": "code",
   "execution_count": null,
   "metadata": {},
   "outputs": [],
   "source": []
  },
  {
   "cell_type": "code",
   "execution_count": null,
   "metadata": {},
   "outputs": [],
   "source": []
  }
 ],
 "metadata": {
  "kernelspec": {
   "display_name": "Python 3",
   "language": "python",
   "name": "python3"
  },
  "language_info": {
   "codemirror_mode": {
    "name": "ipython",
    "version": 3
   },
   "file_extension": ".py",
   "mimetype": "text/x-python",
   "name": "python",
   "nbconvert_exporter": "python",
   "pygments_lexer": "ipython3",
   "version": "3.7.6"
  }
 },
 "nbformat": 4,
 "nbformat_minor": 4
}
