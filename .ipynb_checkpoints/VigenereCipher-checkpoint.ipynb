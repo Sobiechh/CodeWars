{
 "cells": [
  {
   "cell_type": "markdown",
   "metadata": {},
   "source": [
    "The Vigenère cipher is a classic cipher originally developed by Italian cryptographer Giovan Battista Bellaso and published in 1553. It is named after a later French cryptographer Blaise de Vigenère, who had developed a stronger autokey cipher (a cipher that incorporates the message of the text into the key).\n",
    "\n",
    "The cipher is easy to understand and implement, but survived three centuries of attempts to break it, earning it the nickname \"le chiffre indéchiffrable\" or \"the indecipherable cipher.\"\n",
    "\n",
    "From Wikipedia:\n",
    "\n",
    "The Vigenère cipher is a method of encrypting alphabetic text by using a series of different Caesar ciphers based on the letters of a keyword. It is a simple form of polyalphabetic substitution.\n",
    "\n",
    ". . .\n",
    "\n",
    "In a Caesar cipher, each letter of the alphabet is shifted along some number of places; for example, in a Caesar cipher of shift 3, A would become D, B would become E, Y would become B and so on. The Vigenère cipher consists of several Caesar ciphers in sequence with different shift values.\n",
    "\n",
    "Assume the key is repeated for the length of the text, character by character. Note that some implementations repeat the key over characters only if they are part of the alphabet -- this is not the case here.\n",
    "\n",
    "The shift is derived by applying a Caesar shift to a character with the corresponding index of the key in the alphabet.\n",
    "\n",
    "Visual representation:\n",
    "\n",
    "\"my secret code i want to secure\" // message \"passwordpasswordpasswordpasswor\" // key Write a class that, when given a key and an alphabet, can be used to encode and decode from the cipher.\n",
    "\n",
    "Example var alphabet = 'abcdefghijklmnopqrstuvwxyz'; var key = 'password';\n",
    "\n",
    "// creates a cipher helper with each letter substituted // by the corresponding character in the key var c = new VigenèreCipher(key, alphabet);\n",
    "\n",
    "c.encode('codewars'); // returns 'rovwsoiv' c.decode('laxxhsj'); // returns 'waffles' Any character not in the alphabet must be left as is. For example (following from above):\n",
    "\n",
    "c.encode('CODEWARS'); // returns 'CODEWARS'"
   ]
  },
  {
   "cell_type": "code",
   "execution_count": 3,
   "metadata": {},
   "outputs": [
    {
     "ename": "ModuleNotFoundError",
     "evalue": "No module named 'codewars_test'",
     "output_type": "error",
     "traceback": [
      "\u001b[1;31m---------------------------------------------------------------------------\u001b[0m",
      "\u001b[1;31mModuleNotFoundError\u001b[0m                       Traceback (most recent call last)",
      "\u001b[1;32m<ipython-input-3-37176d058457>\u001b[0m in \u001b[0;36m<module>\u001b[1;34m\u001b[0m\n\u001b[1;32m----> 1\u001b[1;33m \u001b[1;32mimport\u001b[0m \u001b[0mcodewars_test\u001b[0m \u001b[1;32mas\u001b[0m \u001b[0mtest\u001b[0m\u001b[1;33m\u001b[0m\u001b[1;33m\u001b[0m\u001b[0m\n\u001b[0m\u001b[0;32m      2\u001b[0m \u001b[1;33m\u001b[0m\u001b[0m\n\u001b[0;32m      3\u001b[0m \u001b[1;32mclass\u001b[0m \u001b[0mVigenereCipher\u001b[0m\u001b[1;33m(\u001b[0m\u001b[0mobject\u001b[0m\u001b[1;33m)\u001b[0m\u001b[1;33m:\u001b[0m\u001b[1;33m\u001b[0m\u001b[1;33m\u001b[0m\u001b[0m\n\u001b[0;32m      4\u001b[0m     \u001b[1;32mdef\u001b[0m \u001b[0m__init__\u001b[0m\u001b[1;33m(\u001b[0m\u001b[0mself\u001b[0m\u001b[1;33m,\u001b[0m \u001b[0mkey\u001b[0m\u001b[1;33m,\u001b[0m \u001b[0malphabet\u001b[0m\u001b[1;33m)\u001b[0m\u001b[1;33m:\u001b[0m\u001b[1;33m\u001b[0m\u001b[1;33m\u001b[0m\u001b[0m\n\u001b[0;32m      5\u001b[0m         \u001b[1;32mpass\u001b[0m\u001b[1;33m\u001b[0m\u001b[1;33m\u001b[0m\u001b[0m\n",
      "\u001b[1;31mModuleNotFoundError\u001b[0m: No module named 'codewars_test'"
     ]
    }
   ],
   "source": [
    "import codewars_test as test\n",
    "\n",
    "class VigenereCipher(object):\n",
    "    def __init__(self, key, alphabet):\n",
    "        pass\n",
    "    \n",
    "    def encode(self, text):\n",
    "        pass\n",
    "    \n",
    "    def decode(self, text):\n",
    "        pass"
   ]
  },
  {
   "cell_type": "code",
   "execution_count": 4,
   "metadata": {},
   "outputs": [
    {
     "ename": "NameError",
     "evalue": "name 'VigenereCipher' is not defined",
     "output_type": "error",
     "traceback": [
      "\u001b[1;31m---------------------------------------------------------------------------\u001b[0m",
      "\u001b[1;31mNameError\u001b[0m                                 Traceback (most recent call last)",
      "\u001b[1;32m<ipython-input-4-f1deabdaf58c>\u001b[0m in \u001b[0;36m<module>\u001b[1;34m\u001b[0m\n\u001b[0;32m      1\u001b[0m \u001b[0mabc\u001b[0m \u001b[1;33m=\u001b[0m \u001b[1;34m\"abcdefghijklmnopqrstuvwxyz\"\u001b[0m\u001b[1;33m\u001b[0m\u001b[1;33m\u001b[0m\u001b[0m\n\u001b[0;32m      2\u001b[0m \u001b[0mkey\u001b[0m \u001b[1;33m=\u001b[0m \u001b[1;34m\"password\"\u001b[0m\u001b[1;33m\u001b[0m\u001b[1;33m\u001b[0m\u001b[0m\n\u001b[1;32m----> 3\u001b[1;33m \u001b[0mc\u001b[0m \u001b[1;33m=\u001b[0m \u001b[0mVigenereCipher\u001b[0m\u001b[1;33m(\u001b[0m\u001b[0mkey\u001b[0m\u001b[1;33m,\u001b[0m \u001b[0mabc\u001b[0m\u001b[1;33m)\u001b[0m\u001b[1;33m\u001b[0m\u001b[1;33m\u001b[0m\u001b[0m\n\u001b[0m\u001b[0;32m      4\u001b[0m \u001b[1;33m\u001b[0m\u001b[0m\n\u001b[0;32m      5\u001b[0m \u001b[0mtest\u001b[0m\u001b[1;33m.\u001b[0m\u001b[0massert_equals\u001b[0m\u001b[1;33m(\u001b[0m\u001b[0mc\u001b[0m\u001b[1;33m.\u001b[0m\u001b[0mencode\u001b[0m\u001b[1;33m(\u001b[0m\u001b[1;34m'codewars'\u001b[0m\u001b[1;33m)\u001b[0m\u001b[1;33m,\u001b[0m \u001b[1;34m'rovwsoiv'\u001b[0m\u001b[1;33m)\u001b[0m\u001b[1;33m\u001b[0m\u001b[1;33m\u001b[0m\u001b[0m\n",
      "\u001b[1;31mNameError\u001b[0m: name 'VigenereCipher' is not defined"
     ]
    }
   ],
   "source": [
    "abc = \"abcdefghijklmnopqrstuvwxyz\"\n",
    "key = \"password\"\n",
    "c = VigenereCipher(key, abc)\n",
    "\n",
    "test.assert_equals(c.encode('codewars'), 'rovwsoiv')\n",
    "test.assert_equals(c.decode('rovwsoiv'), 'codewars')\n",
    "\n",
    "test.assert_equals(c.encode('waffles'), 'laxxhsj')\n",
    "test.assert_equals(c.decode('laxxhsj'), 'waffles')\n",
    "\n",
    "test.assert_equals(c.encode('CODEWARS'), 'CODEWARS')\n",
    "test.assert_equals(c.decode('CODEWARS'), 'CODEWARS')"
   ]
  },
  {
   "cell_type": "code",
   "execution_count": null,
   "metadata": {},
   "outputs": [],
   "source": [
    "#help ---------"
   ]
  },
  {
   "cell_type": "code",
   "execution_count": null,
   "metadata": {},
   "outputs": [],
   "source": [
    "import string\n",
    "\n",
    "class CEZARY:\n",
    "    def __init__(self, tab):\n",
    "        self.tab = tab.upper()\n",
    "\n",
    "    def cezary(self, text):\n",
    "        klucz = 1\n",
    "        alfabet = string.ascii_uppercase\n",
    "        kod = alfabet[klucz:] + alfabet[:klucz]\n",
    "        tabela = str.maketrans(alfabet, kod)\n",
    "        return text.translate(tabela)\n",
    "\n",
    "    def cezary_u(self, text):\n",
    "        klucz = 1\n",
    "        alfabet = string.ascii_uppercase\n",
    "        kod = alfabet[:klucz] + alfabet[klucz:]\n",
    "        tabela = str.maketrans(alfabet, kod)\n",
    "        return text.translate(tabela)\n",
    "\n",
    "    def __str__(self):\n",
    "        wynik = \"Słowo: \"+self.tab +\"\\n\"\n",
    "        wynik+= \"Zaszyfrowane: \" + self.cezary(self.tab) + \"\\n\"\n",
    "        wynik += \"Odszyfrowane: \" + self.cezary_u(self.tab) + \"\\n\\n\"\n",
    "        return wynik\n",
    "\n",
    "\n",
    "file = open('cezar_in.txt','r')\n",
    "linia = file.readline()\n",
    "dane = []\n",
    "while linia:\n",
    "    dane.append(linia.strip())\n",
    "    linia=file.readline()\n",
    "\n",
    "\n",
    "for tekst in dane:\n",
    "    print(CEZARY(tekst), end = \" \")"
   ]
  }
 ],
 "metadata": {
  "kernelspec": {
   "display_name": "Python 3",
   "language": "python",
   "name": "python3"
  },
  "language_info": {
   "codemirror_mode": {
    "name": "ipython",
    "version": 3
   },
   "file_extension": ".py",
   "mimetype": "text/x-python",
   "name": "python",
   "nbconvert_exporter": "python",
   "pygments_lexer": "ipython3",
   "version": "3.8.7"
  }
 },
 "nbformat": 4,
 "nbformat_minor": 4
}
