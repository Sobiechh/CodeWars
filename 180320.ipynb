{
 "cells": [
  {
   "cell_type": "code",
   "execution_count": null,
   "metadata": {},
   "outputs": [],
   "source": [
    "\"\"\"\n",
    "Your task in order to complete this Kata is to write a function which formats a duration, given as a number of seconds, in a human-friendly way.\n",
    "\n",
    "The function must accept a non-negative integer. If it is zero, it just returns \"now\". Otherwise, the duration is expressed as a combination of years, days, hours, minutes and seconds.\n",
    "\n",
    "It is much easier to understand with an example:\n",
    "\n",
    "format_duration(62)    # returns \"1 minute and 2 seconds\"\n",
    "format_duration(3662)  # returns \"1 hour, 1 minute and 2 seconds\"\n",
    "For the purpose of this Kata, a year is 365 days and a day is 24 hours.\n",
    "\n",
    "Note that spaces are important.\n",
    "\"\"\""
   ]
  },
  {
   "cell_type": "code",
   "execution_count": null,
   "metadata": {},
   "outputs": [],
   "source": [
    "intervals =[\n",
    "    ['years', 31536000],\n",
    "    ['days', 86400],\n",
    "    ['hours', 3600],\n",
    "    ['minutes', 60],\n",
    "    ['seconds', 1]\n",
    "]\n",
    "\n",
    "def format_duration(seconds):\n",
    "    result = []\n",
    "    for name, count in intervals:\n",
    "        value = seconds//count\n",
    "        if value != 0:\n",
    "            seconds -= value*count\n",
    "            if value == 1:\n",
    "                name = name.rstrip('s')\n",
    "            if name in ['second', 'seconds']:\n",
    "                result.append(f\"{value} {name}\")\n",
    "            elif name in ['minutes', 'minute'] and name not in ['second', 'seconds']:\n",
    "                result.append(f\"{value} {name}\")\n",
    "            else:\n",
    "                result.append(f\"{value} {name}, \")\n",
    "    if len(result) == 0:\n",
    "        return \"now\"\n",
    "    elif len(result) > 1:\n",
    "        result[-2] = result[-2].rstrip(', ')+ \" and \"\n",
    "        return ''.join(result)\n",
    "    else:\n",
    "        return ''.join(result).rstrip(', ')\n",
    "\n",
    "\n",
    "print(format_duration(0))\n",
    "print(format_duration(1))\n",
    "print(format_duration(60))\n",
    "print(format_duration(62))\n",
    "print(format_duration(120)) \n",
    "print(format_duration(3600))\n",
    "print(format_duration(3661))\n",
    "print(format_duration(347126196))\n",
    "print(format_duration(366223213))"
   ]
  }
 ],
 "metadata": {
  "kernelspec": {
   "display_name": "Python 3",
   "language": "python",
   "name": "python3"
  },
  "language_info": {
   "codemirror_mode": {
    "name": "ipython",
    "version": 3
   },
   "file_extension": ".py",
   "mimetype": "text/x-python",
   "name": "python",
   "nbconvert_exporter": "python",
   "pygments_lexer": "ipython3",
   "version": "3.7.4"
  }
 },
 "nbformat": 4,
 "nbformat_minor": 4
}
