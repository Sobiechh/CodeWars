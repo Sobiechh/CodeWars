{
 "cells": [
  {
   "cell_type": "code",
   "execution_count": null,
   "metadata": {},
   "outputs": [],
   "source": [
    "\"\"\"\n",
    "Your task in order to complete this Kata is to write a function which formats a duration, given as a number of seconds, in a human-friendly way.\n",
    "\n",
    "The function must accept a non-negative integer. If it is zero, it just returns \"now\". Otherwise, the duration is expressed as a combination of years, days, hours, minutes and seconds.\n",
    "\n",
    "It is much easier to understand with an example:\n",
    "\n",
    "format_duration(62)    # returns \"1 minute and 2 seconds\"\n",
    "format_duration(3662)  # returns \"1 hour, 1 minute and 2 seconds\"\n",
    "For the purpose of this Kata, a year is 365 days and a day is 24 hours.\n",
    "\n",
    "Note that spaces are important.\n",
    "\"\"\""
   ]
  },
  {
   "cell_type": "code",
   "execution_count": 2,
   "metadata": {},
   "outputs": [
    {
     "name": "stdout",
     "output_type": "stream",
     "text": [
      "now\n",
      "1 second\n",
      "1 minute\n",
      "1 minute and 2 seconds\n",
      "2 minutes\n",
      "1 hour\n",
      "1 hour, 1 minute and 1 second\n",
      "11 years, 2 days, 15 hours, 56 minutes and 36 seconds\n",
      "11 years, 223 days, 16 hours, 40 minutes and 13 seconds\n"
     ]
    }
   ],
   "source": [
    "intervals =[\n",
    "    ['years', 31536000],\n",
    "    ['days', 86400],\n",
    "    ['hours', 3600],\n",
    "    ['minutes', 60],\n",
    "    ['seconds', 1]\n",
    "]\n",
    "\n",
    "def format_duration(seconds):\n",
    "    result = []\n",
    "    for name, count in intervals:\n",
    "        value = seconds//count\n",
    "        if value != 0:\n",
    "            seconds -= value*count\n",
    "            if value == 1:\n",
    "                name = name.rstrip('s')\n",
    "            if name in ['second', 'seconds']:\n",
    "                result.append(f\"{value} {name}\")\n",
    "            elif name in ['minutes', 'minute'] and name not in ['second', 'seconds']:\n",
    "                result.append(f\"{value} {name}\")\n",
    "            else:\n",
    "                result.append(f\"{value} {name}, \")\n",
    "    if len(result) == 0:\n",
    "        return \"now\"\n",
    "    elif len(result) > 1:\n",
    "        result[-2] = result[-2].rstrip(', ')+ \" and \"\n",
    "        return ''.join(result)\n",
    "    else:\n",
    "        return ''.join(result).rstrip(', ')\n",
    "\n",
    "\n",
    "print(format_duration(0))\n",
    "print(format_duration(1))\n",
    "print(format_duration(60))\n",
    "print(format_duration(62))\n",
    "print(format_duration(120)) \n",
    "print(format_duration(3600))\n",
    "print(format_duration(3661))\n",
    "print(format_duration(347126196))\n",
    "print(format_duration(366223213))"
   ]
  },
  {
   "cell_type": "code",
   "execution_count": 3,
   "metadata": {},
   "outputs": [
    {
     "data": {
      "text/plain": [
       "'\\nWrite a function called sumIntervals/sum_intervals() that accepts an array of intervals, and returns the sum of all the interval lengths. Overlapping intervals should only be counted once.\\n\\nIntervals\\nIntervals are represented by a pair of integers in the form of an array. The first value of the interval will always be less than the second value. Interval example: [1, 5] is an interval from 1 to 5. The length of this interval is 4.\\n\\nOverlapping Intervals\\nList containing overlapping intervals:\\n\\n[\\n   [1,4],\\n   [7, 10],\\n   [3, 5]\\n]\\nThe sum of the lengths of these intervals is 7. Since [1, 4] and [3, 5] overlap, we can treat the interval as [1, 5], which has a length of 4.\\n\\nExamples:\\nsumIntervals( [\\n   [1,2],\\n   [6, 10],\\n   [11, 15]\\n] ); // => 9\\n\\nsumIntervals( [\\n   [1,4],\\n   [7, 10],\\n   [3, 5]\\n] ); // => 7\\n\\nsumIntervals( [\\n   [1,5],\\n   [10, 20],\\n   [1, 6],\\n   [16, 19],\\n   [5, 11]\\n] ); // => 19\\n\\n'"
      ]
     },
     "execution_count": 3,
     "metadata": {},
     "output_type": "execute_result"
    }
   ],
   "source": [
    "\"\"\"\n",
    "Write a function called sumIntervals/sum_intervals() that accepts an array of intervals, and returns the sum of all the interval lengths. Overlapping intervals should only be counted once.\n",
    "\n",
    "Intervals\n",
    "Intervals are represented by a pair of integers in the form of an array. The first value of the interval will always be less than the second value. Interval example: [1, 5] is an interval from 1 to 5. The length of this interval is 4.\n",
    "\n",
    "Overlapping Intervals\n",
    "List containing overlapping intervals:\n",
    "\n",
    "[\n",
    "   [1,4],\n",
    "   [7, 10],\n",
    "   [3, 5]\n",
    "]\n",
    "The sum of the lengths of these intervals is 7. Since [1, 4] and [3, 5] overlap, we can treat the interval as [1, 5], which has a length of 4.\n",
    "\n",
    "Examples:\n",
    "sumIntervals( [\n",
    "   [1,2],\n",
    "   [6, 10],\n",
    "   [11, 15]\n",
    "] ); // => 9\n",
    "\n",
    "sumIntervals( [\n",
    "   [1,4],\n",
    "   [7, 10],\n",
    "   [3, 5]\n",
    "] ); // => 7\n",
    "\n",
    "sumIntervals( [\n",
    "   [1,5],\n",
    "   [10, 20],\n",
    "   [1, 6],\n",
    "   [16, 19],\n",
    "   [5, 11]\n",
    "] ); // => 19\n",
    "\n",
    "\"\"\""
   ]
  },
  {
   "cell_type": "code",
   "execution_count": 20,
   "metadata": {},
   "outputs": [
    {
     "name": "stdout",
     "output_type": "stream",
     "text": [
      "\n",
      "4\n",
      "8\n",
      "4\n",
      "7\n"
     ]
    }
   ],
   "source": [
    "def sum_of_intervals(intervals):\n",
    "    nums = []\n",
    "    for elem in intervals:\n",
    "        for num in range(elem[0], elem[1]):\n",
    "            nums.append(num)\n",
    "    result = len(set(nums))\n",
    "    return result\n",
    "\n",
    "print()\n",
    "print(sum_of_intervals([(1, 5)])) # => 4\n",
    "print(sum_of_intervals([(1, 5), (6, 10)])) # => 4+4 =8\n",
    "print(sum_of_intervals([(1, 5), (1, 5)])) # => 4+4 = 8\n",
    "print(sum_of_intervals([(1, 4), (7, 10), (3, 5)]))\n"
   ]
  },
  {
   "cell_type": "code",
   "execution_count": null,
   "metadata": {},
   "outputs": [],
   "source": [
    "\"\"\"\n",
    "Write a function named first_non_repeating_letter that takes a string input, and returns the first character that is not repeated anywhere in the string.\n",
    "\n",
    "For example, if given the input 'stress', the function should return 't', since the letter t only occurs once in the string, and occurs first in the string.\n",
    "\n",
    "As an added challenge, upper- and lowercase letters are considered the same character, but the function should return the correct case for the initial letter. For example, the input 'sTreSS' should return 'T'.\n",
    "\n",
    "If a string contains all repeating characters, it should return an empty string (\"\") or None -- see sample tests.\n",
    "\"\"\""
   ]
  },
  {
   "cell_type": "code",
   "execution_count": 39,
   "metadata": {},
   "outputs": [
    {
     "name": "stdout",
     "output_type": "stream",
     "text": [
      "('a', 'a')\n",
      "('t', 't')\n",
      "('e', 'e')\n"
     ]
    }
   ],
   "source": [
    "def first_non_repeating_letter(string):\n",
    "    for elem in string:\n",
    "        indx = string.index(elem)\n",
    "        if elem.upper() not in (string[:indx]+string[indx+1:]).upper():\n",
    "            return elem\n",
    "            break\n",
    "    return ''\n",
    "    \n",
    "print((first_non_repeating_letter('a'), 'a'))\n",
    "print((first_non_repeating_letter('stress'), 't'))\n",
    "print((first_non_repeating_letter('moonmen'), 'e'))"
   ]
  },
  {
   "cell_type": "code",
   "execution_count": null,
   "metadata": {},
   "outputs": [],
   "source": []
  }
 ],
 "metadata": {
  "kernelspec": {
   "display_name": "Python 3",
   "language": "python",
   "name": "python3"
  },
  "language_info": {
   "codemirror_mode": {
    "name": "ipython",
    "version": 3
   },
   "file_extension": ".py",
   "mimetype": "text/x-python",
   "name": "python",
   "nbconvert_exporter": "python",
   "pygments_lexer": "ipython3",
   "version": "3.7.4"
  }
 },
 "nbformat": 4,
 "nbformat_minor": 4
}
