{
 "cells": [
  {
   "cell_type": "markdown",
   "metadata": {},
   "source": [
    "Create a function that given a sequence of strings, groups the elements that can be obtained by rotating others, ignoring upper or lower cases.\n",
    "\n",
    "In the event that an element appears more than once in the input sequence, only one of them will be taken into account for the result, discarding the rest.\n",
    "\n",
    "Input Sequence of strings. Valid characters for those strings are uppercase and lowercase characters from the alphabet and whitespaces.\n",
    "\n",
    "Output Sequence of elements. Each element is the group of inputs that can be obtained by rotating the strings.\n",
    "\n",
    "Sort the elements of each group alphabetically.\n",
    "\n",
    "Sort the groups descendingly by size and in the case of a tie, by the first element of the group alphabetically.\n",
    "\n",
    "Examples ['Tokyo', 'London', 'Rome', 'Donlon', 'Kyoto', 'Paris', 'Okyot'] --> [['Kyoto', 'Okyot', 'Tokyo'], ['Donlon', 'London'], ['Paris'], ['Rome']]\n",
    "\n",
    "['Rome', 'Rome', 'Rome', 'Donlon', 'London'] --> [['Donlon', 'London'], ['Rome']]\n",
    "\n",
    "[] --> []"
   ]
  },
  {
   "cell_type": "code",
   "execution_count": 1,
   "metadata": {},
   "outputs": [],
   "source": [
    "def group_cities(seq):\n",
    "    res = []\n",
    "    seq = list(set(seq))\n",
    "    values = []\n",
    "    for elem in seq:\n",
    "        values.append(''.join(sorted(elem.upper())))\n",
    "    dictionary = dict(zip(seq, values))\n",
    "    temp = []\n",
    "    the_same = []\n",
    "    for city in seq:\n",
    "        for city2 in seq:\n",
    "            if dictionary[city] == dictionary[city2]:\n",
    "                temp.append(city2)\n",
    "        if temp not in res:\n",
    "            res.append(sorted(temp))\n",
    "        temp = []\n",
    "    new = []\n",
    "    for elem in res:\n",
    "        if elem not in new:\n",
    "            new.append(elem)\n",
    "    new.sort(key=len, reverse=True)\n",
    "    new.sort()\n",
    "    return new"
   ]
  },
  {
   "cell_type": "code",
   "execution_count": 2,
   "metadata": {},
   "outputs": [
    {
     "name": "stdout",
     "output_type": "stream",
     "text": [
      "[['Donlon', 'London'], ['Kyoto', 'Okyot', 'Tokyo'], ['Paris'], ['Rome']]\n"
     ]
    }
   ],
   "source": [
    "print(group_cities(['Tokyo', 'London', 'Rome', 'Donlon', 'Kyoto', 'Paris', 'Okyot']))\n",
    "                                # should return [['Kyoto', 'Okyot', 'Tokyo'], ['Donlon', 'London'], ['Paris'], ['Rome']])"
   ]
  },
  {
   "cell_type": "markdown",
   "metadata": {},
   "source": [
    "# help"
   ]
  },
  {
   "cell_type": "code",
   "execution_count": 3,
   "metadata": {},
   "outputs": [
    {
     "name": "stdout",
     "output_type": "stream",
     "text": [
      "2\n"
     ]
    }
   ],
   "source": [
    "keys = ['a', 'b', 'c']\n",
    "values = [1, 2, 3]\n",
    "dictionary = dict(zip(keys, values))\n",
    "print(dictionary['b'])"
   ]
  }
 ],
 "metadata": {
  "kernelspec": {
   "display_name": "Python 3",
   "language": "python",
   "name": "python3"
  },
  "language_info": {
   "codemirror_mode": {
    "name": "ipython",
    "version": 3
   },
   "file_extension": ".py",
   "mimetype": "text/x-python",
   "name": "python",
   "nbconvert_exporter": "python",
   "pygments_lexer": "ipython3",
   "version": "3.8.7"
  }
 },
 "nbformat": 4,
 "nbformat_minor": 4
}
