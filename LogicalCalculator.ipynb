{
 "cells": [
  {
   "cell_type": "markdown",
   "metadata": {},
   "source": [
    "Your task is to calculate logical value of boolean array. Test arrays are one-dimensional and their size is in the range 1-50.\n",
    "\n",
    "Links referring to logical operations: AND, OR and XOR.\n",
    "\n",
    "You should begin at the first value, and repeatedly apply the logical operation across the remaining elements in the array sequentially.\n",
    "\n",
    "First Example:\n",
    "\n",
    "Input: true, true, false, operator: AND\n",
    "\n",
    "Steps: true AND true -> true, true AND false -> false\n",
    "\n",
    "Output: false\n",
    "\n",
    "Second Example:\n",
    "\n",
    "Input: true, true, false, operator: OR\n",
    "\n",
    "Steps: true OR true -> true, true OR false -> true\n",
    "\n",
    "Output: true\n",
    "\n",
    "Third Example:\n",
    "\n",
    "Input: true, true, false, operator: XOR\n",
    "\n",
    "Steps: true XOR true -> false, false XOR false -> false\n",
    "\n",
    "Output: false\n",
    "\n",
    "Input:\n",
    "\n",
    "boolean array, string with operator' s name: 'AND', 'OR', 'XOR'.\n",
    "\n",
    "Output:\n",
    "\n",
    "calculated boolean"
   ]
  },
  {
   "cell_type": "code",
   "execution_count": 1,
   "metadata": {},
   "outputs": [],
   "source": [
    "def logical_calc(array, op):\n",
    "    if len(array) > 1:\n",
    "        if op == \"OR\":\n",
    "            curr = (array[0] | array[1])\n",
    "            if len(array) > 2:\n",
    "                for i in range(2, len(array)):\n",
    "                    curr = curr | array[i]\n",
    "\n",
    "\n",
    "        if op == \"AND\":\n",
    "            curr = (array[0] & array[1])\n",
    "            if len(array) > 2:\n",
    "                for i in range(2, len(array)):\n",
    "                    curr = curr & array[i]\n",
    "\n",
    "        if op == \"XOR\":\n",
    "            curr = (array[0] ^ array[1])\n",
    "            if len(array) > 2:\n",
    "                for i in range(2, len(array)):\n",
    "                    curr = curr ^ array[i]\n",
    "    else:\n",
    "        return array[0]\n",
    "    \n",
    "    return curr"
   ]
  },
  {
   "cell_type": "code",
   "execution_count": 2,
   "metadata": {},
   "outputs": [
    {
     "name": "stdout",
     "output_type": "stream",
     "text": [
      "True\n"
     ]
    }
   ],
   "source": [
    "print(logical_calc([True, True, True, False, True, True], \"XOR\"))"
   ]
  }
 ],
 "metadata": {
  "kernelspec": {
   "display_name": "Python 3",
   "language": "python",
   "name": "python3"
  },
  "language_info": {
   "codemirror_mode": {
    "name": "ipython",
    "version": 3
   },
   "file_extension": ".py",
   "mimetype": "text/x-python",
   "name": "python",
   "nbconvert_exporter": "python",
   "pygments_lexer": "ipython3",
   "version": "3.8.7"
  }
 },
 "nbformat": 4,
 "nbformat_minor": 4
}
