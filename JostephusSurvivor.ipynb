{
 "cells": [
  {
   "cell_type": "markdown",
   "metadata": {},
   "source": [
    "In this kata you have to correctly return who is the \"survivor\", ie: the last element of a Josephus permutation.\n",
    "\n",
    "Basically you have to assume that n people are put into a circle and that they are eliminated in steps of k elements, like this:\n",
    "\n",
    "josephus_survivor(7,3) => means 7 people in a circle;\n",
    "one every 3 is eliminated until one remains\n",
    "[1,2,3,4,5,6,7] - initial sequence\n",
    "[1,2,4,5,6,7] => 3 is counted out\n",
    "[1,2,4,5,7] => 6 is counted out\n",
    "[1,4,5,7] => 2 is counted out\n",
    "[1,4,5] => 7 is counted out\n",
    "[1,4] => 5 is counted out\n",
    "[4] => 1 counted out, 4 is the last element - the survivor!\n",
    "The above link about the \"base\" kata description will give you a more thorough insight about the origin of this kind of permutation, but basically that's all that there is to know to solve this kata.\n",
    "\n",
    "Notes and tips: using the solution to the other kata to check your function may be helpful, but as much larger numbers will be used, using an array/list to compute the number of the survivor may be too slow; you may assume that both n and k will always be >=1."
   ]
  },
  {
   "cell_type": "code",
   "execution_count": 6,
   "metadata": {},
   "outputs": [],
   "source": [
    "def josephus_survivor(n,k):\n",
    "    t = [x for x in range(1,n+1)]\n",
    "    shift = k -1 #const\n",
    "    #t = [x for i,x in enumerate(t) if i != shift]\n",
    "    if k>n:\n",
    "        where_i_am = k%n  - 1\n",
    "    else:\n",
    "        where_i_am = k-1\n",
    "    curr_len = len(t) - 1\n",
    "    while len(t) > 1:\n",
    "        #print(f'{t}')\n",
    "        #print(t[where_i_am])\n",
    "        #t = [x for i,x in enumerate(t) if i != where_i_am]\n",
    "        t.pop(where_i_am)\n",
    "        if curr_len != 0:\n",
    "            where_i_am  = (where_i_am + shift)%curr_len\n",
    "        curr_len= len(t) - 1\n",
    "        \n",
    "    return t[0]"
   ]
  },
  {
   "cell_type": "code",
   "execution_count": 7,
   "metadata": {},
   "outputs": [
    {
     "data": {
      "text/plain": [
       "1000"
      ]
     },
     "execution_count": 7,
     "metadata": {},
     "output_type": "execute_result"
    }
   ],
   "source": [
    "josephus_survivor(1000,1)"
   ]
  },
  {
   "cell_type": "code",
   "execution_count": 3,
   "metadata": {},
   "outputs": [],
   "source": [
    "def josephus_survivor2(n, k):\n",
    "    t = [x for x in range(1,n+1)]\n",
    "    print(t)\n",
    "    if k>n:\n",
    "        skip = k%n \n",
    "    else:\n",
    "        skip = k \n",
    "    skip -= 1 \n",
    "    idx = skip\n",
    "    while len(t) > 1:\n",
    "        print(t.pop(idx)) \n",
    "        idx = (idx + skip) % len(t)\n",
    "    return t[0]  "
   ]
  },
  {
   "cell_type": "code",
   "execution_count": 5,
   "metadata": {},
   "outputs": [
    {
     "name": "stdout",
     "output_type": "stream",
     "text": [
      "[1, 2, 3, 4, 5, 6, 7, 8, 9, 10, 11]\n",
      "8\n",
      "5\n",
      "3\n",
      "2\n",
      "4\n",
      "7\n",
      "11\n",
      "10\n",
      "6\n",
      "1\n"
     ]
    },
    {
     "data": {
      "text/plain": [
       "9"
      ]
     },
     "execution_count": 5,
     "metadata": {},
     "output_type": "execute_result"
    }
   ],
   "source": [
    "josephus_survivor2(11,19)"
   ]
  },
  {
   "cell_type": "markdown",
   "metadata": {},
   "source": [
    "# probably best way"
   ]
  },
  {
   "cell_type": "code",
   "execution_count": 8,
   "metadata": {},
   "outputs": [],
   "source": [
    "def josephus(n, skip):\n",
    "        from collections import deque\n",
    "        ls = [x for x in range(1,n+1)]\n",
    "        d = deque(ls)\n",
    "        while len(d)>1:\n",
    "            d.rotate(-skip)\n",
    "            print(d.pop())\n",
    "        print('survivor:' , d.pop())"
   ]
  },
  {
   "cell_type": "code",
   "execution_count": 9,
   "metadata": {},
   "outputs": [
    {
     "name": "stdout",
     "output_type": "stream",
     "text": [
      "8\n",
      "6\n",
      "7\n",
      "11\n",
      "5\n",
      "9\n",
      "3\n",
      "1\n",
      "2\n",
      "4\n",
      "survivor: 10\n"
     ]
    }
   ],
   "source": [
    "josephus(11,19)"
   ]
  },
  {
   "cell_type": "markdown",
   "metadata": {},
   "source": [
    "# class way"
   ]
  },
  {
   "cell_type": "code",
   "execution_count": 10,
   "metadata": {},
   "outputs": [],
   "source": [
    "class Node(object):\n",
    "    def __init__(self, data, prev=None, next=None):\n",
    "        self.data = data\n",
    "        self.prev = prev\n",
    "        self.next = next\n",
    "\n",
    "    @classmethod\n",
    "    def make_list(cls, n):\n",
    "        first = node = prev = cls(1)\n",
    "\n",
    "        for i in range(2, n + 1):\n",
    "            node = Node(i, prev=prev)\n",
    "            prev.next = node\n",
    "            prev = node\n",
    "\n",
    "        node.next = first\n",
    "        first.prev = node\n",
    "\n",
    "        return first\n",
    "\n",
    "\n",
    "def find_survivor(num_people, kill_every):\n",
    "    node = Node.make_list(num_people)\n",
    "\n",
    "    while node.next != node:\n",
    "        for i in range(kill_every - 1):\n",
    "            node = node.next\n",
    "        \n",
    "        node.prev.next = node.next\n",
    "        node.next.prev = node.prev\n",
    "\n",
    "        node = node.next\n",
    "\n",
    "    return node.data"
   ]
  },
  {
   "cell_type": "code",
   "execution_count": 11,
   "metadata": {},
   "outputs": [
    {
     "name": "stdout",
     "output_type": "stream",
     "text": [
      "10\n"
     ]
    }
   ],
   "source": [
    "print(find_survivor(11,19))"
   ]
  }
 ],
 "metadata": {
  "kernelspec": {
   "display_name": "Python 3",
   "language": "python",
   "name": "python3"
  },
  "language_info": {
   "codemirror_mode": {
    "name": "ipython",
    "version": 3
   },
   "file_extension": ".py",
   "mimetype": "text/x-python",
   "name": "python",
   "nbconvert_exporter": "python",
   "pygments_lexer": "ipython3",
   "version": "3.8.7"
  }
 },
 "nbformat": 4,
 "nbformat_minor": 4
}
