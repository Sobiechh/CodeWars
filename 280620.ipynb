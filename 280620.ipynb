{
 "cells": [
  {
   "cell_type": "markdown",
   "metadata": {},
   "source": [
    "When working with color values it can sometimes be useful to extract the individual red, green, and blue (RGB) component values for a color. Implement a function that meets these requirements:\n",
    "\n",
    "Accepts a case-insensitive hexadecimal color string as its parameter (ex. \"#FF9933\" or \"#ff9933\")\n",
    "Returns an object with the structure {r: 255, g: 153, b: 51} where r, g, and b range from 0 through 255\n",
    "Note: your implementation does not need to support the shorthand form of hexadecimal notation (ie \"#FFF\")\n",
    "\n",
    "Example\n",
    "\"#FF9933\" --> {r: 255, g: 153, b: 51}"
   ]
  },
  {
   "cell_type": "code",
   "execution_count": 15,
   "metadata": {},
   "outputs": [],
   "source": [
    "def hex_string_to_RGB(hex_string): \n",
    "    col = ['r', 'g', 'b']\n",
    "    decs = [int(hex_string[i:i+2],16) for i in range(1, len(hex_string), 2)]\n",
    "    return dict(zip(col, decs))"
   ]
  },
  {
   "cell_type": "code",
   "execution_count": 16,
   "metadata": {},
   "outputs": [
    {
     "data": {
      "text/plain": [
       "{'r': 255, 'g': 153, 'b': 51}"
      ]
     },
     "execution_count": 16,
     "metadata": {},
     "output_type": "execute_result"
    }
   ],
   "source": [
    "hex_string_to_RGB(\"#FF9933\")"
   ]
  }
 ],
 "metadata": {
  "kernelspec": {
   "display_name": "Python 3",
   "language": "python",
   "name": "python3"
  },
  "language_info": {
   "codemirror_mode": {
    "name": "ipython",
    "version": 3
   },
   "file_extension": ".py",
   "mimetype": "text/x-python",
   "name": "python",
   "nbconvert_exporter": "python",
   "pygments_lexer": "ipython3",
   "version": "3.7.6"
  }
 },
 "nbformat": 4,
 "nbformat_minor": 4
}
