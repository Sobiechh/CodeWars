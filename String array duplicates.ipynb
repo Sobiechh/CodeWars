{
 "cells": [
  {
   "cell_type": "code",
   "execution_count": null,
   "metadata": {},
   "outputs": [],
   "source": []
  },
  {
   "cell_type": "code",
   "execution_count": 38,
   "metadata": {},
   "outputs": [],
   "source": [
    "def dup(arr):\n",
    "    for i, el in enumerate(arr):\n",
    "        zipped = zip(el, el[1:])\n",
    "        zipped = [z for z in zipped if z[0] != z[1]]\n",
    "        res = list(zip(*zipped)) \n",
    "        res = ''.join(res[0])+res[1][-1]\n",
    "        arr[i] = res\n",
    "    return arr"
   ]
  },
  {
   "cell_type": "code",
   "execution_count": null,
   "metadata": {},
   "outputs": [],
   "source": []
  },
  {
   "cell_type": "code",
   "execution_count": null,
   "metadata": {},
   "outputs": [],
   "source": []
  },
  {
   "cell_type": "code",
   "execution_count": 39,
   "metadata": {},
   "outputs": [
    {
     "data": {
      "text/plain": [
       "True"
      ]
     },
     "execution_count": 39,
     "metadata": {},
     "output_type": "execute_result"
    }
   ],
   "source": [
    "dup([\"ccooddddddewwwaaaaarrrrsssss\",\"piccaninny\",\"hubbubbubboo\"]) == ['codewars','picaniny','hubububo']"
   ]
  },
  {
   "cell_type": "code",
   "execution_count": 40,
   "metadata": {},
   "outputs": [
    {
     "data": {
      "text/plain": [
       "True"
      ]
     },
     "execution_count": 40,
     "metadata": {},
     "output_type": "execute_result"
    }
   ],
   "source": [
    "dup([\"abracadabra\",\"allottee\",\"assessee\"]) == ['abracadabra','alote','asese']\n",
    "dup([\"kelless\",\"keenness\"]) == ['keles','kenes']\n",
    "dup([\"Woolloomooloo\",\"flooddoorroommoonlighters\",\"chuchchi\"]) == ['Wolomolo','flodoromonlighters','chuchchi']\n",
    "dup([\"adanac\",\"soonness\",\"toolless\",\"ppellee\"]) == ['adanac','sones','toles','pele']\n",
    "dup([\"callalloo\",\"feelless\",\"heelless\"]) == ['calalo','feles','heles']\n",
    "dup([\"putteellinen\",\"keenness\"]) == ['putelinen','kenes']\n",
    "dup([\"kelless\",\"voorraaddoosspullen\",\"achcha\"]) == ['keles','voradospulen','achcha']"
   ]
  }
 ],
 "metadata": {
  "kernelspec": {
   "display_name": "Python 3",
   "language": "python",
   "name": "python3"
  },
  "language_info": {
   "codemirror_mode": {
    "name": "ipython",
    "version": 3
   },
   "file_extension": ".py",
   "mimetype": "text/x-python",
   "name": "python",
   "nbconvert_exporter": "python",
   "pygments_lexer": "ipython3",
   "version": "3.7.6"
  }
 },
 "nbformat": 4,
 "nbformat_minor": 4
}
