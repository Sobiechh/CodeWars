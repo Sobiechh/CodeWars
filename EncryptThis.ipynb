{
 "cells": [
  {
   "cell_type": "markdown",
   "metadata": {},
   "source": [
    "# Encrypt this!\n",
    "\n",
    "## You want to create secret messages which can be deciphered by the Decipher this! kata. Here are the conditions:\n",
    "\n",
    "## Your message is a string containing space separated words. You need to encrypt each word in the message using the following rules: The first letter needs to be converted to its ASCII code. The second letter needs to be switched with the last letter Keepin' it simple: There are no special characters in input. \n",
    "## Examples: \n",
    "### encrypt_this(\"Hello\") == \"72olle\" \n",
    "### encrypt_this(\"good\") == \"103doo\" \n",
    "### encrypt_this(\"hello world\") == \"104olle 119drlo\""
   ]
  },
  {
   "cell_type": "code",
   "execution_count": 2,
   "metadata": {},
   "outputs": [],
   "source": [
    "def encrypt_this(text):\n",
    "    res = []\n",
    "    for word in text.split(' '):\n",
    "        if len(word) == 1:\n",
    "            res.append(str(ord(word[0])))\n",
    "\n",
    "        elif len(word) >1 :\n",
    "            word =list(word)\n",
    "            word[1], word[-1]= word[-1], word[1]\n",
    "            word[0] = str(ord(word[0]))\n",
    "            res.append(str(''.join(word)))\n",
    "    #print(text.split(' '))\n",
    "    return ' '.join(res)"
   ]
  },
  {
   "cell_type": "code",
   "execution_count": 3,
   "metadata": {},
   "outputs": [],
   "source": [
    "tests = [\n",
    "\"A wise old owl lived in an oak\", \n",
    "\"The more he saw the less he spoke\", \n",
    "\"The less he spoke the more he heard\", \n",
    "\"Why can we not all be like that wise old bird\", \n",
    "\"Thank you Piotr for all your help\" \n",
    "]"
   ]
  },
  {
   "cell_type": "code",
   "execution_count": 4,
   "metadata": {},
   "outputs": [
    {
     "name": "stdout",
     "output_type": "stream",
     "text": [
      "65 119esi 111dl 111lw 108dvei 105n 97n 111ka\n",
      "84eh 109ero 104e 115wa 116eh 108sse 104e 115eokp\n",
      "84eh 108sse 104e 115eokp 116eh 109ero 104e 104dare\n",
      "87yh 99na 119e 110to 97ll 98e 108eki 116tah 119esi 111dl 98dri\n",
      "84kanh 121uo 80roti 102ro 97ll 121ruo 104ple\n"
     ]
    }
   ],
   "source": [
    "for t in tests:\n",
    "    print(encrypt_this(t))"
   ]
  },
  {
   "cell_type": "code",
   "execution_count": 5,
   "metadata": {},
   "outputs": [
    {
     "data": {
      "text/plain": [
       "'84kanh 121uo 80roti 102ro 97ll 121ruo 104ple'"
      ]
     },
     "execution_count": 5,
     "metadata": {},
     "output_type": "execute_result"
    }
   ],
   "source": [
    "\"65 119esi 111dl 111lw 108dvei 105n 97n 111ka\"\n",
    "\"84eh 109ero 104e 115wa 116eh 108sse 104e 115eokp\"\n",
    "\"84eh 108sse 104e 115eokp 116eh 109ero 104e 104dare\"\n",
    "\"87yh 99na 119e 110to 97ll 98e 108eki 116tah 119esi 111dl 98dri\"\n",
    "\"84kanh 121uo 80roti 102ro 97ll 121ruo 104ple\""
   ]
  }
 ],
 "metadata": {
  "kernelspec": {
   "display_name": "Python 3",
   "language": "python",
   "name": "python3"
  },
  "language_info": {
   "codemirror_mode": {
    "name": "ipython",
    "version": 3
   },
   "file_extension": ".py",
   "mimetype": "text/x-python",
   "name": "python",
   "nbconvert_exporter": "python",
   "pygments_lexer": "ipython3",
   "version": "3.8.7"
  }
 },
 "nbformat": 4,
 "nbformat_minor": 4
}
